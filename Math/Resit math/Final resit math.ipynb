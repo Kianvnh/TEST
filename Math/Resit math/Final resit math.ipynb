{
 "cells": [
  {
   "cell_type": "code",
   "execution_count": 44,
   "metadata": {},
   "outputs": [],
   "source": [
    "import pandas as pd\n",
    "import matplotlib.pyplot as plt\n",
    "import numpy as np\n"
   ]
  },
  {
   "cell_type": "code",
   "execution_count": 45,
   "metadata": {},
   "outputs": [
    {
     "data": {
      "text/html": [
       "<div>\n",
       "<style scoped>\n",
       "    .dataframe tbody tr th:only-of-type {\n",
       "        vertical-align: middle;\n",
       "    }\n",
       "\n",
       "    .dataframe tbody tr th {\n",
       "        vertical-align: top;\n",
       "    }\n",
       "\n",
       "    .dataframe thead th {\n",
       "        text-align: right;\n",
       "    }\n",
       "</style>\n",
       "<table border=\"1\" class=\"dataframe\">\n",
       "  <thead>\n",
       "    <tr style=\"text-align: right;\">\n",
       "      <th></th>\n",
       "      <th>survey_id</th>\n",
       "      <th>gender</th>\n",
       "      <th>study_domain</th>\n",
       "      <th>study_year</th>\n",
       "      <th>avg_grade</th>\n",
       "      <th>housing</th>\n",
       "      <th>budget</th>\n",
       "      <th>relationship</th>\n",
       "      <th>social_events</th>\n",
       "      <th>drinks</th>\n",
       "    </tr>\n",
       "  </thead>\n",
       "  <tbody>\n",
       "    <tr>\n",
       "      <th>0</th>\n",
       "      <td>acd7283f-8d05-4d1b-a1e7-4d09327e04b0</td>\n",
       "      <td>female</td>\n",
       "      <td>social sciences</td>\n",
       "      <td>fourth</td>\n",
       "      <td>7.45</td>\n",
       "      <td>other</td>\n",
       "      <td>average</td>\n",
       "      <td>no</td>\n",
       "      <td>average</td>\n",
       "      <td>6</td>\n",
       "    </tr>\n",
       "    <tr>\n",
       "      <th>1</th>\n",
       "      <td>91e1cf0e-fd57-4cfe-b485-c34ae4130816</td>\n",
       "      <td>female</td>\n",
       "      <td>law</td>\n",
       "      <td>fourth</td>\n",
       "      <td>6.85</td>\n",
       "      <td>parents</td>\n",
       "      <td>high</td>\n",
       "      <td>yes</td>\n",
       "      <td>average</td>\n",
       "      <td>9</td>\n",
       "    </tr>\n",
       "    <tr>\n",
       "      <th>2</th>\n",
       "      <td>fcd6549e-ca3f-44cd-9f10-589f904bea47</td>\n",
       "      <td>female</td>\n",
       "      <td>business</td>\n",
       "      <td>fourth</td>\n",
       "      <td>7.53</td>\n",
       "      <td>student housing</td>\n",
       "      <td>average</td>\n",
       "      <td>no</td>\n",
       "      <td>average</td>\n",
       "      <td>4</td>\n",
       "    </tr>\n",
       "    <tr>\n",
       "      <th>3</th>\n",
       "      <td>1947f389-988a-4085-9156-7eb3768a3c75</td>\n",
       "      <td>female</td>\n",
       "      <td>computer sciences</td>\n",
       "      <td>third</td>\n",
       "      <td>7.16</td>\n",
       "      <td>student housing</td>\n",
       "      <td>average</td>\n",
       "      <td>yes</td>\n",
       "      <td>low</td>\n",
       "      <td>2</td>\n",
       "    </tr>\n",
       "    <tr>\n",
       "      <th>4</th>\n",
       "      <td>296ec3d0-c708-4f87-8d1b-2e9fa2331efd</td>\n",
       "      <td>male</td>\n",
       "      <td>health</td>\n",
       "      <td>second</td>\n",
       "      <td>7.84</td>\n",
       "      <td>parents</td>\n",
       "      <td>high</td>\n",
       "      <td>yes</td>\n",
       "      <td>low</td>\n",
       "      <td>2</td>\n",
       "    </tr>\n",
       "  </tbody>\n",
       "</table>\n",
       "</div>"
      ],
      "text/plain": [
       "                              survey_id  gender       study_domain study_year  \\\n",
       "0  acd7283f-8d05-4d1b-a1e7-4d09327e04b0  female    social sciences     fourth   \n",
       "1  91e1cf0e-fd57-4cfe-b485-c34ae4130816  female                law     fourth   \n",
       "2  fcd6549e-ca3f-44cd-9f10-589f904bea47  female           business     fourth   \n",
       "3  1947f389-988a-4085-9156-7eb3768a3c75  female  computer sciences      third   \n",
       "4  296ec3d0-c708-4f87-8d1b-2e9fa2331efd    male             health     second   \n",
       "\n",
       "   avg_grade          housing   budget relationship social_events  drinks  \n",
       "0       7.45            other  average           no       average       6  \n",
       "1       6.85          parents     high          yes       average       9  \n",
       "2       7.53  student housing  average           no       average       4  \n",
       "3       7.16  student housing  average          yes           low       2  \n",
       "4       7.84          parents     high          yes           low       2  "
      ]
     },
     "execution_count": 45,
     "metadata": {},
     "output_type": "execute_result"
    }
   ],
   "source": [
    "df = pd.read_csv(\"dataset_1672182_resit.csv\")\n",
    "df.head()"
   ]
  },
  {
   "cell_type": "code",
   "execution_count": 46,
   "metadata": {},
   "outputs": [
    {
     "data": {
      "text/plain": [
       "survey_id        11\n",
       "gender            2\n",
       "study_domain      0\n",
       "study_year        0\n",
       "avg_grade         0\n",
       "housing           0\n",
       "budget            0\n",
       "relationship      0\n",
       "social_events     0\n",
       "drinks            0\n",
       "dtype: int64"
      ]
     },
     "execution_count": 46,
     "metadata": {},
     "output_type": "execute_result"
    }
   ],
   "source": [
    "df.isnull().sum()"
   ]
  },
  {
   "cell_type": "code",
   "execution_count": 47,
   "metadata": {},
   "outputs": [],
   "source": [
    "df = df.dropna()"
   ]
  },
  {
   "cell_type": "markdown",
   "metadata": {},
   "source": [
    "Question 1:"
   ]
  },
  {
   "cell_type": "code",
   "execution_count": 52,
   "metadata": {},
   "outputs": [
    {
     "name": "stdout",
     "output_type": "stream",
     "text": [
      "The total amount of students that answered the survey: 337\n",
      "Total amount of drinks consumed per week: 2154\n",
      "Average drinks per student per week: 6.3916913946587535\n"
     ]
    }
   ],
   "source": [
    "students = len(df)\n",
    "print(\"The total amount of students that answered the survey:\", students)\n",
    "\n",
    "total_drinks = sum(df[\"drinks\"])\n",
    "print(\"Total amount of drinks consumed per week:\", total_drinks)\n",
    "\n",
    "print(\"Average drinks per student per week:\", total_drinks/students)"
   ]
  },
  {
   "cell_type": "code",
   "execution_count": null,
   "metadata": {},
   "outputs": [],
   "source": []
  }
 ],
 "metadata": {
  "kernelspec": {
   "display_name": "Python 3",
   "language": "python",
   "name": "python3"
  },
  "language_info": {
   "codemirror_mode": {
    "name": "ipython",
    "version": 3
   },
   "file_extension": ".py",
   "mimetype": "text/x-python",
   "name": "python",
   "nbconvert_exporter": "python",
   "pygments_lexer": "ipython3",
   "version": "3.10.13"
  }
 },
 "nbformat": 4,
 "nbformat_minor": 2
}
