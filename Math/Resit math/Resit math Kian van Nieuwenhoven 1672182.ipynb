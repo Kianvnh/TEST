{
 "cells": [
  {
   "cell_type": "code",
   "execution_count": 2,
   "metadata": {},
   "outputs": [],
   "source": [
    "import pandas as pd\n",
    "import matplotlib.pyplot as plt\n",
    "import numpy as np\n",
    "import scipy.stats as sc\n"
   ]
  },
  {
   "cell_type": "code",
   "execution_count": 3,
   "metadata": {},
   "outputs": [
    {
     "data": {
      "text/html": [
       "<div>\n",
       "<style scoped>\n",
       "    .dataframe tbody tr th:only-of-type {\n",
       "        vertical-align: middle;\n",
       "    }\n",
       "\n",
       "    .dataframe tbody tr th {\n",
       "        vertical-align: top;\n",
       "    }\n",
       "\n",
       "    .dataframe thead th {\n",
       "        text-align: right;\n",
       "    }\n",
       "</style>\n",
       "<table border=\"1\" class=\"dataframe\">\n",
       "  <thead>\n",
       "    <tr style=\"text-align: right;\">\n",
       "      <th></th>\n",
       "      <th>survey_id</th>\n",
       "      <th>gender</th>\n",
       "      <th>study_domain</th>\n",
       "      <th>study_year</th>\n",
       "      <th>avg_grade</th>\n",
       "      <th>housing</th>\n",
       "      <th>budget</th>\n",
       "      <th>relationship</th>\n",
       "      <th>social_events</th>\n",
       "      <th>drinks</th>\n",
       "    </tr>\n",
       "  </thead>\n",
       "  <tbody>\n",
       "    <tr>\n",
       "      <th>0</th>\n",
       "      <td>acd7283f-8d05-4d1b-a1e7-4d09327e04b0</td>\n",
       "      <td>female</td>\n",
       "      <td>social sciences</td>\n",
       "      <td>fourth</td>\n",
       "      <td>7.45</td>\n",
       "      <td>other</td>\n",
       "      <td>average</td>\n",
       "      <td>no</td>\n",
       "      <td>average</td>\n",
       "      <td>6</td>\n",
       "    </tr>\n",
       "    <tr>\n",
       "      <th>1</th>\n",
       "      <td>91e1cf0e-fd57-4cfe-b485-c34ae4130816</td>\n",
       "      <td>female</td>\n",
       "      <td>law</td>\n",
       "      <td>fourth</td>\n",
       "      <td>6.85</td>\n",
       "      <td>parents</td>\n",
       "      <td>high</td>\n",
       "      <td>yes</td>\n",
       "      <td>average</td>\n",
       "      <td>9</td>\n",
       "    </tr>\n",
       "    <tr>\n",
       "      <th>2</th>\n",
       "      <td>fcd6549e-ca3f-44cd-9f10-589f904bea47</td>\n",
       "      <td>female</td>\n",
       "      <td>business</td>\n",
       "      <td>fourth</td>\n",
       "      <td>7.53</td>\n",
       "      <td>student housing</td>\n",
       "      <td>average</td>\n",
       "      <td>no</td>\n",
       "      <td>average</td>\n",
       "      <td>4</td>\n",
       "    </tr>\n",
       "    <tr>\n",
       "      <th>3</th>\n",
       "      <td>1947f389-988a-4085-9156-7eb3768a3c75</td>\n",
       "      <td>female</td>\n",
       "      <td>computer sciences</td>\n",
       "      <td>third</td>\n",
       "      <td>7.16</td>\n",
       "      <td>student housing</td>\n",
       "      <td>average</td>\n",
       "      <td>yes</td>\n",
       "      <td>low</td>\n",
       "      <td>2</td>\n",
       "    </tr>\n",
       "    <tr>\n",
       "      <th>4</th>\n",
       "      <td>296ec3d0-c708-4f87-8d1b-2e9fa2331efd</td>\n",
       "      <td>male</td>\n",
       "      <td>health</td>\n",
       "      <td>second</td>\n",
       "      <td>7.84</td>\n",
       "      <td>parents</td>\n",
       "      <td>high</td>\n",
       "      <td>yes</td>\n",
       "      <td>low</td>\n",
       "      <td>2</td>\n",
       "    </tr>\n",
       "  </tbody>\n",
       "</table>\n",
       "</div>"
      ],
      "text/plain": [
       "                              survey_id  gender       study_domain study_year  \\\n",
       "0  acd7283f-8d05-4d1b-a1e7-4d09327e04b0  female    social sciences     fourth   \n",
       "1  91e1cf0e-fd57-4cfe-b485-c34ae4130816  female                law     fourth   \n",
       "2  fcd6549e-ca3f-44cd-9f10-589f904bea47  female           business     fourth   \n",
       "3  1947f389-988a-4085-9156-7eb3768a3c75  female  computer sciences      third   \n",
       "4  296ec3d0-c708-4f87-8d1b-2e9fa2331efd    male             health     second   \n",
       "\n",
       "   avg_grade          housing   budget relationship social_events  drinks  \n",
       "0       7.45            other  average           no       average       6  \n",
       "1       6.85          parents     high          yes       average       9  \n",
       "2       7.53  student housing  average           no       average       4  \n",
       "3       7.16  student housing  average          yes           low       2  \n",
       "4       7.84          parents     high          yes           low       2  "
      ]
     },
     "execution_count": 3,
     "metadata": {},
     "output_type": "execute_result"
    }
   ],
   "source": [
    "df = pd.read_csv(\"dataset_1672182_resit.csv\")\n",
    "df.head()"
   ]
  },
  {
   "cell_type": "code",
   "execution_count": 4,
   "metadata": {},
   "outputs": [
    {
     "data": {
      "text/plain": [
       "survey_id        11\n",
       "gender            2\n",
       "study_domain      0\n",
       "study_year        0\n",
       "avg_grade         0\n",
       "housing           0\n",
       "budget            0\n",
       "relationship      0\n",
       "social_events     0\n",
       "drinks            0\n",
       "dtype: int64"
      ]
     },
     "execution_count": 4,
     "metadata": {},
     "output_type": "execute_result"
    }
   ],
   "source": [
    "df.isnull().sum()"
   ]
  },
  {
   "cell_type": "code",
   "execution_count": 5,
   "metadata": {},
   "outputs": [],
   "source": [
    "df = df.dropna()"
   ]
  },
  {
   "cell_type": "markdown",
   "metadata": {},
   "source": [
    "Question 1:"
   ]
  },
  {
   "cell_type": "code",
   "execution_count": 6,
   "metadata": {},
   "outputs": [
    {
     "name": "stdout",
     "output_type": "stream",
     "text": [
      "The total amount of students that answered the survey: 337\n",
      "Total amount of drinks consumed per week: 2154\n",
      "Average drinks per student per week: 6.3916913946587535\n"
     ]
    }
   ],
   "source": [
    "students = len(df)\n",
    "print(\"The total amount of students that answered the survey:\", students)\n",
    "\n",
    "total_drinks = sum(df[\"drinks\"])\n",
    "print(\"Total amount of drinks consumed per week:\", total_drinks)\n",
    "\n",
    "print(\"Average drinks per student per week:\", total_drinks/students)"
   ]
  },
  {
   "cell_type": "code",
   "execution_count": 31,
   "metadata": {},
   "outputs": [
    {
     "data": {
      "image/png": "[encoded data removed]",
      "text/plain": [
       "<Figure size 640x480 with 1 Axes>"
      ]
     },
     "metadata": {},
     "output_type": "display_data"
    },
    {
     "data": {
      "image/png": "[encoded data removed]",
      "text/plain": [
       "<Figure size 640x480 with 1 Axes>"
      ]
     },
     "metadata": {},
     "output_type": "display_data"
    },
    {
     "data": {
      "image/png": "[encoded data removed]",
      "text/plain": [
       "<Figure size 640x480 with 1 Axes>"
      ]
     },
     "metadata": {},
     "output_type": "display_data"
    },
    {
     "data": {
      "image/png": "[encoded data removed]",
      "text/plain": [
       "<Figure size 640x480 with 1 Axes>"
      ]
     },
     "metadata": {},
     "output_type": "display_data"
    },
    {
     "data": {
      "image/png": "[encoded data removed]",
      "text/plain": [
       "<Figure size 640x480 with 1 Axes>"
      ]
     },
     "metadata": {},
     "output_type": "display_data"
    },
    {
     "data": {
      "image/png": "[encoded data removed]",
      "text/plain": [
       "<Figure size 640x480 with 1 Axes>"
      ]
     },
     "metadata": {},
     "output_type": "display_data"
    },
    {
     "data": {
      "image/png": "[encoded data removed]",
      "text/plain": [
       "<Figure size 640x480 with 1 Axes>"
      ]
     },
     "metadata": {},
     "output_type": "display_data"
    }
   ],
   "source": [
    "average_drinks_per_domain = df.groupby('study_domain')['drinks'].mean()\n",
    "#drinks_domain_sorted = average_drinks_per_domain.sort_values(ascending=True)\n",
    "average_drinks_per_domain.plot(kind='bar', title='Average drinks per study domain', xlabel='Study domain', ylabel='Drinks')\n",
    "plt.show()\n",
    " #drinks per domain\n",
    "\n",
    "average_drinks_per_grade = df.groupby('avg_grade')['drinks'].mean()\n",
    "drinks_grade_sorted = average_drinks_per_grade.sort_values(ascending=False)\n",
    "drinks_grade_sorted.plot(kind='bar', title='Average drinks per grade', xlabel='Grade 0 - 10', ylabel='Drinks')\n",
    "plt.xticks([]) #removes all the individual markers\n",
    "plt.show()\n",
    " #drinks per domain\n",
    "\n",
    "average_drinks_per_gender = df.groupby('gender')['drinks'].mean()\n",
    "average_drinks_per_gender.plot(kind='bar', title='Average drinks per gender', xlabel='Gender', ylabel='Drinks')\n",
    "plt.show()\n",
    "#drinks per gender\n",
    "\n",
    "average_drinks_per_housing = df.groupby('housing')['drinks'].mean()\n",
    "average_drinks_per_housing.plot(kind='bar', title='Average drinks per housing situation', xlabel='Housing situation', ylabel='Drinks')\n",
    "plt.show()\n",
    "#Average drinks per housing situation\n",
    "\n",
    "average_drinks_per_budget = df.groupby('budget')['drinks'].mean()\n",
    "average_drinks_per_budget.plot(kind='bar', title='Average drinks per budget', xlabel='Budget', ylabel='Drinks')\n",
    "plt.show()\n",
    "#Average drinks based on budget\n",
    "\n",
    "average_drinks_per_relationship = df.groupby('relationship')['drinks'].mean()\n",
    "average_drinks_per_relationship.plot(kind='bar', title='Average drinks based on being in a romantical relationship', xlabel='Relationship status', ylabel='Drinks')\n",
    "plt.show()\n",
    "\n",
    "average_drinks_per_social_events = df.groupby('social_events')['drinks'].mean()\n",
    "average_drinks_per_social_events.plot(kind='bar', title='Average drinks based on the amount of social events attended', xlabel='social events', ylabel='Drinks')\n",
    "plt.show()\n",
    "\n",
    "\n",
    "\n",
    "\n",
    "#i used .mean() because the for example studies do not have the same amount of students"
   ]
  },
  {
   "cell_type": "markdown",
   "metadata": {},
   "source": [
    "I have chosen to zoom this experiment in on avg_grade as it is the only variable you can objectively divide into lower being bad and higher being good.\n",
    "The graph that compares the amount of drinks students had to their average grade is very Right-Skewed, meaning that most of the students that drink alot every week do not have a high average grade. \n",
    "\n",
    "Besides the avg_grade there are some other central tendencies such as: that on average business students have the most drinks per week and social sciences students the least, students with a higher budget tend to have more drinks, the amount of social events a student goes to increases their amount of drinks per week, students living in student housing drink more, students in a relationship drink slightly more than students who arent in a relationship and female students on average drink more than male students."
   ]
  },
  {
   "cell_type": "markdown",
   "metadata": {},
   "source": [
    "Question 2:"
   ]
  },
  {
   "cell_type": "code",
   "execution_count": 8,
   "metadata": {},
   "outputs": [
    {
     "name": "stdout",
     "output_type": "stream",
     "text": [
      "Amount of male students: 171\n",
      "Amount of female students: 166\n",
      "Number of male students consuming more than 4 drinks per week: 102\n",
      "Number of female students consuming more than 4 drinks per week: 89\n"
     ]
    }
   ],
   "source": [
    "amt_males = (df['gender'] == 'male').sum()\n",
    "amt_females = (df['gender'] == 'female').sum()\n",
    "print('Amount of male students:', amt_males)\n",
    "print('Amount of female students:', amt_females)\n",
    "\n",
    "male_4drinks = ((df['gender'] == 'male') & (df['drinks'] > 4)).sum()\n",
    "print(\"Number of male students consuming more than 4 drinks per week:\", male_4drinks)\n",
    "\n",
    "female_4drinks = ((df['gender'] == 'female') & (df['drinks'] > 4)).sum()\n",
    "print(\"Number of female students consuming more than 4 drinks per week:\", female_4drinks)"
   ]
  },
  {
   "cell_type": "code",
   "execution_count": 9,
   "metadata": {},
   "outputs": [
    {
     "name": "stdout",
     "output_type": "stream",
     "text": [
      "percentage chance that a male student has more than 4 drinks per week: 59.64912280701754\n",
      "percentage chance that a female student has more than 4 drinks per week: 53.6144578313253\n"
     ]
    }
   ],
   "source": [
    "print('percentage chance that a male student has more than 4 drinks per week:',male_4drinks/amt_males*100)\n",
    "print('percentage chance that a female student has more than 4 drinks per week:',female_4drinks/amt_females*100)"
   ]
  },
  {
   "cell_type": "markdown",
   "metadata": {},
   "source": [
    "The conclusion is that the probability of consuming on average more than 4 alcoholic drinks per week is higher for male students than female students."
   ]
  },
  {
   "cell_type": "markdown",
   "metadata": {},
   "source": [
    "Question 3:"
   ]
  },
  {
   "cell_type": "code",
   "execution_count": 10,
   "metadata": {},
   "outputs": [
    {
     "name": "stdout",
     "output_type": "stream",
     "text": [
      "The average mean grade for the course is: 7.027952522255193\n"
     ]
    }
   ],
   "source": [
    "mean_grade = np.mean(df['avg_grade']) \n",
    "print('The average mean grade for the course is:', mean_grade)"
   ]
  },
  {
   "cell_type": "markdown",
   "metadata": {},
   "source": [
    "Question 4A:"
   ]
  },
  {
   "cell_type": "markdown",
   "metadata": {},
   "source": [
    "Descriptive analysis:"
   ]
  },
  {
   "cell_type": "code",
   "execution_count": 11,
   "metadata": {},
   "outputs": [
    {
     "data": {
      "text/html": [
       "<div>\n",
       "<style scoped>\n",
       "    .dataframe tbody tr th:only-of-type {\n",
       "        vertical-align: middle;\n",
       "    }\n",
       "\n",
       "    .dataframe tbody tr th {\n",
       "        vertical-align: top;\n",
       "    }\n",
       "\n",
       "    .dataframe thead th {\n",
       "        text-align: right;\n",
       "    }\n",
       "</style>\n",
       "<table border=\"1\" class=\"dataframe\">\n",
       "  <thead>\n",
       "    <tr style=\"text-align: right;\">\n",
       "      <th></th>\n",
       "      <th>survey_id</th>\n",
       "      <th>gender</th>\n",
       "      <th>study_domain</th>\n",
       "      <th>study_year</th>\n",
       "      <th>avg_grade</th>\n",
       "      <th>housing</th>\n",
       "      <th>budget</th>\n",
       "      <th>relationship</th>\n",
       "      <th>social_events</th>\n",
       "      <th>drinks</th>\n",
       "      <th>drinks_cat</th>\n",
       "    </tr>\n",
       "  </thead>\n",
       "  <tbody>\n",
       "    <tr>\n",
       "      <th>0</th>\n",
       "      <td>acd7283f-8d05-4d1b-a1e7-4d09327e04b0</td>\n",
       "      <td>female</td>\n",
       "      <td>social sciences</td>\n",
       "      <td>fourth</td>\n",
       "      <td>7.45</td>\n",
       "      <td>other</td>\n",
       "      <td>average</td>\n",
       "      <td>no</td>\n",
       "      <td>average</td>\n",
       "      <td>6</td>\n",
       "      <td>A_lot</td>\n",
       "    </tr>\n",
       "    <tr>\n",
       "      <th>1</th>\n",
       "      <td>91e1cf0e-fd57-4cfe-b485-c34ae4130816</td>\n",
       "      <td>female</td>\n",
       "      <td>law</td>\n",
       "      <td>fourth</td>\n",
       "      <td>6.85</td>\n",
       "      <td>parents</td>\n",
       "      <td>high</td>\n",
       "      <td>yes</td>\n",
       "      <td>average</td>\n",
       "      <td>9</td>\n",
       "      <td>A_lot</td>\n",
       "    </tr>\n",
       "    <tr>\n",
       "      <th>2</th>\n",
       "      <td>fcd6549e-ca3f-44cd-9f10-589f904bea47</td>\n",
       "      <td>female</td>\n",
       "      <td>business</td>\n",
       "      <td>fourth</td>\n",
       "      <td>7.53</td>\n",
       "      <td>student housing</td>\n",
       "      <td>average</td>\n",
       "      <td>no</td>\n",
       "      <td>average</td>\n",
       "      <td>4</td>\n",
       "      <td>Tolerable</td>\n",
       "    </tr>\n",
       "    <tr>\n",
       "      <th>3</th>\n",
       "      <td>1947f389-988a-4085-9156-7eb3768a3c75</td>\n",
       "      <td>female</td>\n",
       "      <td>computer sciences</td>\n",
       "      <td>third</td>\n",
       "      <td>7.16</td>\n",
       "      <td>student housing</td>\n",
       "      <td>average</td>\n",
       "      <td>yes</td>\n",
       "      <td>low</td>\n",
       "      <td>2</td>\n",
       "      <td>Little</td>\n",
       "    </tr>\n",
       "    <tr>\n",
       "      <th>4</th>\n",
       "      <td>296ec3d0-c708-4f87-8d1b-2e9fa2331efd</td>\n",
       "      <td>male</td>\n",
       "      <td>health</td>\n",
       "      <td>second</td>\n",
       "      <td>7.84</td>\n",
       "      <td>parents</td>\n",
       "      <td>high</td>\n",
       "      <td>yes</td>\n",
       "      <td>low</td>\n",
       "      <td>2</td>\n",
       "      <td>Little</td>\n",
       "    </tr>\n",
       "  </tbody>\n",
       "</table>\n",
       "</div>"
      ],
      "text/plain": [
       "                              survey_id  gender       study_domain study_year  \\\n",
       "0  acd7283f-8d05-4d1b-a1e7-4d09327e04b0  female    social sciences     fourth   \n",
       "1  91e1cf0e-fd57-4cfe-b485-c34ae4130816  female                law     fourth   \n",
       "2  fcd6549e-ca3f-44cd-9f10-589f904bea47  female           business     fourth   \n",
       "3  1947f389-988a-4085-9156-7eb3768a3c75  female  computer sciences      third   \n",
       "4  296ec3d0-c708-4f87-8d1b-2e9fa2331efd    male             health     second   \n",
       "\n",
       "   avg_grade          housing   budget relationship social_events  drinks  \\\n",
       "0       7.45            other  average           no       average       6   \n",
       "1       6.85          parents     high          yes       average       9   \n",
       "2       7.53  student housing  average           no       average       4   \n",
       "3       7.16  student housing  average          yes           low       2   \n",
       "4       7.84          parents     high          yes           low       2   \n",
       "\n",
       "  drinks_cat  \n",
       "0      A_lot  \n",
       "1      A_lot  \n",
       "2  Tolerable  \n",
       "3     Little  \n",
       "4     Little  "
      ]
     },
     "execution_count": 11,
     "metadata": {},
     "output_type": "execute_result"
    }
   ],
   "source": [
    "#0 is none, 1-2 is little, 3-4 tolerable, >4 is a lot\n",
    "def c_drinks(drinks):           #create categories based on the amount of drinks\n",
    "    if drinks == 0:\n",
    "        return \"None\"\n",
    "    elif 1 <= drinks <= 2:\n",
    "        return \"Little\"\n",
    "    elif 3 <= drinks <= 4:\n",
    "        return \"Tolerable\"\n",
    "    else:\n",
    "        return \"A_lot\"\n",
    "\n",
    "df[\"drinks_cat\"] = df[\"drinks\"].apply(c_drinks) #adding the variables to the dataset under the column drinks_cat\n",
    "\n",
    "df.head()"
   ]
  },
  {
   "cell_type": "code",
   "execution_count": 12,
   "metadata": {},
   "outputs": [
    {
     "name": "stdout",
     "output_type": "stream",
     "text": [
      "Mean grade none students: 7.904814814814815\n",
      "Mean grade little students: 7.884489795918367\n",
      "Mean grade Tolerable students: 7.529571428571428\n",
      "Mean grade A_lot students: 6.500418848167539\n"
     ]
    }
   ],
   "source": [
    "none_students = df[df['drinks_cat'] == 'None']\n",
    "little_students = df[df['drinks_cat'] == 'Little']\n",
    "Tolerable_students = df[df['drinks_cat'] == 'Tolerable']\n",
    "A_lot_students = df[df['drinks_cat'] == 'A_lot']\n",
    "\n",
    "print(\"Mean grade none students:\", none_students['avg_grade'].mean())\n",
    "print(\"Mean grade little students:\", little_students['avg_grade'].mean())\n",
    "print(\"Mean grade Tolerable students:\", Tolerable_students['avg_grade'].mean())\n",
    "print(\"Mean grade A_lot students:\", A_lot_students['avg_grade'].mean())"
   ]
  },
  {
   "cell_type": "code",
   "execution_count": 13,
   "metadata": {},
   "outputs": [
    {
     "name": "stdout",
     "output_type": "stream",
     "text": [
      "Standard deviation None students: 0.5857592121301517\n",
      "Standard deviation Little students: 0.5679503471560274\n",
      "Standard deviation Tolerable students: 0.5453843617494145\n",
      "Standard deviation A_lot students: 0.8517464856840403\n"
     ]
    }
   ],
   "source": [
    "print(\"Standard deviation None students:\", (np.std(none_students['avg_grade'], ddof=0)))\n",
    "print(\"Standard deviation Little students:\", (np.std(little_students['avg_grade'], ddof=0)))\n",
    "print(\"Standard deviation Tolerable students:\", (np.std(Tolerable_students['avg_grade'], ddof=0)))\n",
    "print(\"Standard deviation A_lot students:\", (np.std(A_lot_students['avg_grade'], ddof=0)))"
   ]
  },
  {
   "cell_type": "code",
   "execution_count": 14,
   "metadata": {},
   "outputs": [
    {
     "data": {
      "image/png": "[encoded data removed]",
      "text/plain": [
       "<Figure size 640x480 with 1 Axes>"
      ]
     },
     "metadata": {},
     "output_type": "display_data"
    }
   ],
   "source": [
    "average_drinks_per_grade = df.groupby('avg_grade')['drinks'].mean()\n",
    "drinks_grade_sorted = average_drinks_per_grade.sort_values(ascending=False)\n",
    "drinks_grade_sorted.plot(kind='bar', title='Average drinks per grade', xlabel='Grade 0 - 10', ylabel='Drinks')\n",
    "plt.xticks([]) #used xticks to hide unnecessary markers\n",
    "plt.show()"
   ]
  },
  {
   "cell_type": "markdown",
   "metadata": {},
   "source": [
    "Inferential analysis:"
   ]
  },
  {
   "cell_type": "markdown",
   "metadata": {},
   "source": [
    "Based on the descriptive analysis I ask the question:\n",
    "Do students that get high grades actually drink less than other students?"
   ]
  },
  {
   "cell_type": "markdown",
   "metadata": {},
   "source": [
    "Hypothesis: There is significant difference in the grades scored by students who fall in the the drinks_cat 'A_lot' and students who fall in the drinks_cat categories 'None' and 'Little'\n",
    "\n",
    "Null hypothesis: There is no significant difference in the grades scored by students who fall in the drinks_cat 'A_lot' and students who fall in the drinks_cat 'None' and 'Little' or the students who drink more get higher grades."
   ]
  },
  {
   "cell_type": "code",
   "execution_count": 15,
   "metadata": {},
   "outputs": [
    {
     "data": {
      "text/html": [
       "<div>\n",
       "<style scoped>\n",
       "    .dataframe tbody tr th:only-of-type {\n",
       "        vertical-align: middle;\n",
       "    }\n",
       "\n",
       "    .dataframe tbody tr th {\n",
       "        vertical-align: top;\n",
       "    }\n",
       "\n",
       "    .dataframe thead th {\n",
       "        text-align: right;\n",
       "    }\n",
       "</style>\n",
       "<table border=\"1\" class=\"dataframe\">\n",
       "  <thead>\n",
       "    <tr style=\"text-align: right;\">\n",
       "      <th></th>\n",
       "      <th>survey_id</th>\n",
       "      <th>gender</th>\n",
       "      <th>study_domain</th>\n",
       "      <th>study_year</th>\n",
       "      <th>avg_grade</th>\n",
       "      <th>housing</th>\n",
       "      <th>budget</th>\n",
       "      <th>relationship</th>\n",
       "      <th>social_events</th>\n",
       "      <th>drinks</th>\n",
       "      <th>drinks_cat</th>\n",
       "      <th>A4_nonlittle</th>\n",
       "    </tr>\n",
       "  </thead>\n",
       "  <tbody>\n",
       "    <tr>\n",
       "      <th>0</th>\n",
       "      <td>acd7283f-8d05-4d1b-a1e7-4d09327e04b0</td>\n",
       "      <td>female</td>\n",
       "      <td>social sciences</td>\n",
       "      <td>fourth</td>\n",
       "      <td>7.45</td>\n",
       "      <td>other</td>\n",
       "      <td>average</td>\n",
       "      <td>no</td>\n",
       "      <td>average</td>\n",
       "      <td>6</td>\n",
       "      <td>A_lot</td>\n",
       "      <td>not relevant</td>\n",
       "    </tr>\n",
       "    <tr>\n",
       "      <th>1</th>\n",
       "      <td>91e1cf0e-fd57-4cfe-b485-c34ae4130816</td>\n",
       "      <td>female</td>\n",
       "      <td>law</td>\n",
       "      <td>fourth</td>\n",
       "      <td>6.85</td>\n",
       "      <td>parents</td>\n",
       "      <td>high</td>\n",
       "      <td>yes</td>\n",
       "      <td>average</td>\n",
       "      <td>9</td>\n",
       "      <td>A_lot</td>\n",
       "      <td>not relevant</td>\n",
       "    </tr>\n",
       "    <tr>\n",
       "      <th>2</th>\n",
       "      <td>fcd6549e-ca3f-44cd-9f10-589f904bea47</td>\n",
       "      <td>female</td>\n",
       "      <td>business</td>\n",
       "      <td>fourth</td>\n",
       "      <td>7.53</td>\n",
       "      <td>student housing</td>\n",
       "      <td>average</td>\n",
       "      <td>no</td>\n",
       "      <td>average</td>\n",
       "      <td>4</td>\n",
       "      <td>Tolerable</td>\n",
       "      <td>not relevant</td>\n",
       "    </tr>\n",
       "    <tr>\n",
       "      <th>3</th>\n",
       "      <td>1947f389-988a-4085-9156-7eb3768a3c75</td>\n",
       "      <td>female</td>\n",
       "      <td>computer sciences</td>\n",
       "      <td>third</td>\n",
       "      <td>7.16</td>\n",
       "      <td>student housing</td>\n",
       "      <td>average</td>\n",
       "      <td>yes</td>\n",
       "      <td>low</td>\n",
       "      <td>2</td>\n",
       "      <td>Little</td>\n",
       "      <td>non_little</td>\n",
       "    </tr>\n",
       "    <tr>\n",
       "      <th>4</th>\n",
       "      <td>296ec3d0-c708-4f87-8d1b-2e9fa2331efd</td>\n",
       "      <td>male</td>\n",
       "      <td>health</td>\n",
       "      <td>second</td>\n",
       "      <td>7.84</td>\n",
       "      <td>parents</td>\n",
       "      <td>high</td>\n",
       "      <td>yes</td>\n",
       "      <td>low</td>\n",
       "      <td>2</td>\n",
       "      <td>Little</td>\n",
       "      <td>non_little</td>\n",
       "    </tr>\n",
       "  </tbody>\n",
       "</table>\n",
       "</div>"
      ],
      "text/plain": [
       "                              survey_id  gender       study_domain study_year  \\\n",
       "0  acd7283f-8d05-4d1b-a1e7-4d09327e04b0  female    social sciences     fourth   \n",
       "1  91e1cf0e-fd57-4cfe-b485-c34ae4130816  female                law     fourth   \n",
       "2  fcd6549e-ca3f-44cd-9f10-589f904bea47  female           business     fourth   \n",
       "3  1947f389-988a-4085-9156-7eb3768a3c75  female  computer sciences      third   \n",
       "4  296ec3d0-c708-4f87-8d1b-2e9fa2331efd    male             health     second   \n",
       "\n",
       "   avg_grade          housing   budget relationship social_events  drinks  \\\n",
       "0       7.45            other  average           no       average       6   \n",
       "1       6.85          parents     high          yes       average       9   \n",
       "2       7.53  student housing  average           no       average       4   \n",
       "3       7.16  student housing  average          yes           low       2   \n",
       "4       7.84          parents     high          yes           low       2   \n",
       "\n",
       "  drinks_cat  A4_nonlittle  \n",
       "0      A_lot  not relevant  \n",
       "1      A_lot  not relevant  \n",
       "2  Tolerable  not relevant  \n",
       "3     Little    non_little  \n",
       "4     Little    non_little  "
      ]
     },
     "execution_count": 15,
     "metadata": {},
     "output_type": "execute_result"
    }
   ],
   "source": [
    "def A4_drinks(drinks):           #non_little is categories none and little combined\n",
    "\n",
    "    if 0 <= drinks <= 2:\n",
    "        return \"non_little\"\n",
    "    else:\n",
    "        return \"not relevant\"\n",
    "\n",
    "df[\"A4_nonlittle\"] = df[\"drinks\"].apply(A4_drinks) #adding the variables to the dataset under the column drinks_cat\n",
    "\n",
    "nonelittle_students = df[df['A4_nonlittle'] == 'non_little']\n",
    "df.head()\n",
    "\n",
    "# i created a new category because i didnt want to mess with the values in drinks_cat"
   ]
  },
  {
   "cell_type": "code",
   "execution_count": 16,
   "metadata": {},
   "outputs": [
    {
     "name": "stdout",
     "output_type": "stream",
     "text": [
      "7.891710526315788\n",
      "6.500418848167539\n"
     ]
    }
   ],
   "source": [
    "mean_nonelittle_students = nonelittle_students['avg_grade'].mean()\n",
    "mean_a_lot_students = A_lot_students['avg_grade'].mean()\n",
    "print(mean_nonelittle_students)\n",
    "print(mean_a_lot_students)"
   ]
  },
  {
   "cell_type": "code",
   "execution_count": 17,
   "metadata": {},
   "outputs": [
    {
     "name": "stdout",
     "output_type": "stream",
     "text": [
      "Test outcome: TtestResult(statistic=13.054530588898606, pvalue=1.034413437172083e-30, df=265.0)\n"
     ]
    }
   ],
   "source": [
    "A4_ttest = sc.ttest_ind(nonelittle_students['avg_grade'], A_lot_students['avg_grade'], alternative='greater') \n",
    "print(f\"Test outcome: {A4_ttest}\") #the p-value is smaller than 0.05. Meaning the 0 Hypothesis can be rejected and the hypothesis can be accepted.\n",
    "\n",
    "#This means that there is a statistically significant difference in the grades of students who drink 'none' to 'little' and students who drink 'a lot'"
   ]
  },
  {
   "cell_type": "markdown",
   "metadata": {},
   "source": [
    "Question 4B1"
   ]
  },
  {
   "cell_type": "markdown",
   "metadata": {},
   "source": [
    "Descriptive analysis:"
   ]
  },
  {
   "cell_type": "code",
   "execution_count": 18,
   "metadata": {},
   "outputs": [
    {
     "name": "stdout",
     "output_type": "stream",
     "text": [
      "Average drinks per study domain:\n",
      "study_domain\n",
      "business             7.439394\n",
      "computer sciences    6.673913\n",
      "health               5.675000\n",
      "law                  7.220779\n",
      "natural sciences     6.044444\n",
      "social sciences      4.777778\n",
      "Name: drinks, dtype: float64\n"
     ]
    }
   ],
   "source": [
    "average_drinks_per_domain = df.groupby('study_domain')['drinks'].mean()\n",
    "print('Average drinks per study domain:')\n",
    "print(average_drinks_per_domain)"
   ]
  },
  {
   "cell_type": "code",
   "execution_count": 19,
   "metadata": {},
   "outputs": [
    {
     "name": "stdout",
     "output_type": "stream",
     "text": [
      "['social sciences' 'law' 'business' 'computer sciences' 'health'\n",
      " 'natural sciences']\n"
     ]
    }
   ],
   "source": [
    "print(df['study_domain'].unique())"
   ]
  },
  {
   "cell_type": "code",
   "execution_count": 20,
   "metadata": {},
   "outputs": [
    {
     "name": "stdout",
     "output_type": "stream",
     "text": [
      "Standard deviation Social sciences students: 3.9818813629630556\n",
      "Standard deviation Law students: 4.950727026822796\n",
      "Standard deviation Business students: 4.609373808384151\n",
      "Standard deviation Computer sciences students: 5.145932745239245\n",
      "Standard deviation Health students: 4.844520100071832\n",
      "Standard deviation Natural sciences students: 5.324808000943657\n"
     ]
    }
   ],
   "source": [
    "social_sciences_students = df[df['study_domain'] == 'social sciences']\n",
    "law_students = df[df['study_domain'] == 'law']\n",
    "business_students = df[df['study_domain'] == 'business']\n",
    "computer_sciences_students = df[df['study_domain'] == 'computer sciences']\n",
    "health_students = df[df['study_domain'] == 'health']\n",
    "natural_sciences_students = df[df['study_domain'] == 'natural sciences']\n",
    "\n",
    "print(\"Standard deviation Social sciences students:\", (np.std(social_sciences_students['drinks'], ddof=0)))\n",
    "print(\"Standard deviation Law students:\", (np.std(law_students['drinks'], ddof=0)))\n",
    "print(\"Standard deviation Business students:\", (np.std(business_students['drinks'], ddof=0)))\n",
    "print(\"Standard deviation Computer sciences students:\", (np.std(computer_sciences_students['drinks'], ddof=0)))\n",
    "print(\"Standard deviation Health students:\", (np.std(health_students['drinks'], ddof=0)))\n",
    "print(\"Standard deviation Natural sciences students:\", (np.std(natural_sciences_students['drinks'], ddof=0)))"
   ]
  },
  {
   "cell_type": "code",
   "execution_count": 21,
   "metadata": {},
   "outputs": [
    {
     "data": {
      "text/html": [
       "<div>\n",
       "<style scoped>\n",
       "    .dataframe tbody tr th:only-of-type {\n",
       "        vertical-align: middle;\n",
       "    }\n",
       "\n",
       "    .dataframe tbody tr th {\n",
       "        vertical-align: top;\n",
       "    }\n",
       "\n",
       "    .dataframe thead th {\n",
       "        text-align: right;\n",
       "    }\n",
       "</style>\n",
       "<table border=\"1\" class=\"dataframe\">\n",
       "  <thead>\n",
       "    <tr style=\"text-align: right;\">\n",
       "      <th></th>\n",
       "      <th>survey_id</th>\n",
       "      <th>gender</th>\n",
       "      <th>study_domain</th>\n",
       "      <th>study_year</th>\n",
       "      <th>avg_grade</th>\n",
       "      <th>housing</th>\n",
       "      <th>budget</th>\n",
       "      <th>relationship</th>\n",
       "      <th>social_events</th>\n",
       "      <th>drinks</th>\n",
       "      <th>drinks_cat</th>\n",
       "      <th>A4_nonlittle</th>\n",
       "      <th>average_drinks_per_domain</th>\n",
       "    </tr>\n",
       "  </thead>\n",
       "  <tbody>\n",
       "    <tr>\n",
       "      <th>0</th>\n",
       "      <td>acd7283f-8d05-4d1b-a1e7-4d09327e04b0</td>\n",
       "      <td>female</td>\n",
       "      <td>social sciences</td>\n",
       "      <td>fourth</td>\n",
       "      <td>7.45</td>\n",
       "      <td>other</td>\n",
       "      <td>average</td>\n",
       "      <td>no</td>\n",
       "      <td>average</td>\n",
       "      <td>6</td>\n",
       "      <td>A_lot</td>\n",
       "      <td>not relevant</td>\n",
       "      <td>4.777778</td>\n",
       "    </tr>\n",
       "    <tr>\n",
       "      <th>1</th>\n",
       "      <td>91e1cf0e-fd57-4cfe-b485-c34ae4130816</td>\n",
       "      <td>female</td>\n",
       "      <td>law</td>\n",
       "      <td>fourth</td>\n",
       "      <td>6.85</td>\n",
       "      <td>parents</td>\n",
       "      <td>high</td>\n",
       "      <td>yes</td>\n",
       "      <td>average</td>\n",
       "      <td>9</td>\n",
       "      <td>A_lot</td>\n",
       "      <td>not relevant</td>\n",
       "      <td>7.220779</td>\n",
       "    </tr>\n",
       "    <tr>\n",
       "      <th>2</th>\n",
       "      <td>fcd6549e-ca3f-44cd-9f10-589f904bea47</td>\n",
       "      <td>female</td>\n",
       "      <td>business</td>\n",
       "      <td>fourth</td>\n",
       "      <td>7.53</td>\n",
       "      <td>student housing</td>\n",
       "      <td>average</td>\n",
       "      <td>no</td>\n",
       "      <td>average</td>\n",
       "      <td>4</td>\n",
       "      <td>Tolerable</td>\n",
       "      <td>not relevant</td>\n",
       "      <td>7.439394</td>\n",
       "    </tr>\n",
       "    <tr>\n",
       "      <th>3</th>\n",
       "      <td>1947f389-988a-4085-9156-7eb3768a3c75</td>\n",
       "      <td>female</td>\n",
       "      <td>computer sciences</td>\n",
       "      <td>third</td>\n",
       "      <td>7.16</td>\n",
       "      <td>student housing</td>\n",
       "      <td>average</td>\n",
       "      <td>yes</td>\n",
       "      <td>low</td>\n",
       "      <td>2</td>\n",
       "      <td>Little</td>\n",
       "      <td>non_little</td>\n",
       "      <td>6.673913</td>\n",
       "    </tr>\n",
       "    <tr>\n",
       "      <th>4</th>\n",
       "      <td>296ec3d0-c708-4f87-8d1b-2e9fa2331efd</td>\n",
       "      <td>male</td>\n",
       "      <td>health</td>\n",
       "      <td>second</td>\n",
       "      <td>7.84</td>\n",
       "      <td>parents</td>\n",
       "      <td>high</td>\n",
       "      <td>yes</td>\n",
       "      <td>low</td>\n",
       "      <td>2</td>\n",
       "      <td>Little</td>\n",
       "      <td>non_little</td>\n",
       "      <td>5.675000</td>\n",
       "    </tr>\n",
       "  </tbody>\n",
       "</table>\n",
       "</div>"
      ],
      "text/plain": [
       "                              survey_id  gender       study_domain study_year  \\\n",
       "0  acd7283f-8d05-4d1b-a1e7-4d09327e04b0  female    social sciences     fourth   \n",
       "1  91e1cf0e-fd57-4cfe-b485-c34ae4130816  female                law     fourth   \n",
       "2  fcd6549e-ca3f-44cd-9f10-589f904bea47  female           business     fourth   \n",
       "3  1947f389-988a-4085-9156-7eb3768a3c75  female  computer sciences      third   \n",
       "4  296ec3d0-c708-4f87-8d1b-2e9fa2331efd    male             health     second   \n",
       "\n",
       "   avg_grade          housing   budget relationship social_events  drinks  \\\n",
       "0       7.45            other  average           no       average       6   \n",
       "1       6.85          parents     high          yes       average       9   \n",
       "2       7.53  student housing  average           no       average       4   \n",
       "3       7.16  student housing  average          yes           low       2   \n",
       "4       7.84          parents     high          yes           low       2   \n",
       "\n",
       "  drinks_cat  A4_nonlittle  average_drinks_per_domain  \n",
       "0      A_lot  not relevant                   4.777778  \n",
       "1      A_lot  not relevant                   7.220779  \n",
       "2  Tolerable  not relevant                   7.439394  \n",
       "3     Little    non_little                   6.673913  \n",
       "4     Little    non_little                   5.675000  "
      ]
     },
     "execution_count": 21,
     "metadata": {},
     "output_type": "execute_result"
    }
   ],
   "source": [
    "df['average_drinks_per_domain'] = df.groupby('study_domain')['drinks'].transform('mean')\n",
    "df.head()"
   ]
  },
  {
   "cell_type": "code",
   "execution_count": 22,
   "metadata": {},
   "outputs": [
    {
     "data": {
      "text/plain": [
       "<Axes: title={'center': 'Average drinks per study domain'}, xlabel='Study domain', ylabel='Drinks'>"
      ]
     },
     "execution_count": 22,
     "metadata": {},
     "output_type": "execute_result"
    },
    {
     "data": {
      "image/png": "[encoded data removed]",
      "text/plain": [
       "<Figure size 640x480 with 1 Axes>"
      ]
     },
     "metadata": {},
     "output_type": "display_data"
    }
   ],
   "source": [
    "drinks_domain_sorted = average_drinks_per_domain.sort_values(ascending=True)\n",
    "\n",
    "drinks_domain_sorted.plot(kind='bar', title='Average drinks per study domain', xlabel='Study domain', ylabel='Drinks')"
   ]
  },
  {
   "cell_type": "markdown",
   "metadata": {},
   "source": [
    "Inferential analysis:"
   ]
  },
  {
   "cell_type": "markdown",
   "metadata": {},
   "source": [
    "Hypothesis: There is significant difference in the average amount of drinks consumed by business students and social sciences students.\n",
    "\n",
    "Null hypothesis: There is no significant difference in the average amount of drinks consumed by business students and social sciences students or the social sciences students drink more."
   ]
  },
  {
   "cell_type": "code",
   "execution_count": 23,
   "metadata": {},
   "outputs": [
    {
     "name": "stdout",
     "output_type": "stream",
     "text": [
      "Mean average drinks social sciences students: 4.777777777777778\n",
      "Mean average drinks business students: 7.4393939393939394\n"
     ]
    }
   ],
   "source": [
    "mean_social_sciences_students = social_sciences_students['drinks'].mean()\n",
    "mean_business_students = business_students['drinks'].mean()\n",
    "print(\"Mean average drinks social sciences students:\", mean_social_sciences_students)\n",
    "print(\"Mean average drinks business students:\", mean_business_students)"
   ]
  },
  {
   "cell_type": "code",
   "execution_count": 24,
   "metadata": {},
   "outputs": [
    {
     "name": "stdout",
     "output_type": "stream",
     "text": [
      "Test outcome: TtestResult(statistic=-3.4752443572045584, pvalue=0.0003494687758993463, df=127.0)\n"
     ]
    }
   ],
   "source": [
    "B41_ttest = sc.ttest_ind(social_sciences_students['drinks'], business_students['drinks'], alternative='less') \n",
    "print(f\"Test outcome: {B41_ttest}\") #the p-value is smaller than 0.05. Meaning the 0 Hypothesis can be rejected and the hypothesis can be accepted.\n",
    "\n",
    "#This means that there is a statistically significant difference in the average amount of drinks consumed by students who study business and students who study social sciences"
   ]
  },
  {
   "cell_type": "markdown",
   "metadata": {},
   "source": [
    "Question 4C2"
   ]
  },
  {
   "cell_type": "markdown",
   "metadata": {},
   "source": [
    "Descriptive analysis:"
   ]
  },
  {
   "cell_type": "code",
   "execution_count": 25,
   "metadata": {},
   "outputs": [
    {
     "name": "stdout",
     "output_type": "stream",
     "text": [
      "Average drinks based on being or not being in a romantic relationship:\n",
      "relationship\n",
      "no     6.317647\n",
      "yes    6.467066\n",
      "Name: drinks, dtype: float64\n"
     ]
    }
   ],
   "source": [
    "average_drinks_per_domain = df.groupby('relationship')['drinks'].mean()\n",
    "print('Average drinks based on being or not being in a romantic relationship:')\n",
    "print(average_drinks_per_domain)"
   ]
  },
  {
   "cell_type": "code",
   "execution_count": 26,
   "metadata": {},
   "outputs": [
    {
     "name": "stdout",
     "output_type": "stream",
     "text": [
      "Standard deviation students in a romantical relationship: 4.973368522809045\n",
      "Standard deviation not in a romantical relationship: 4.791190057732428\n"
     ]
    }
   ],
   "source": [
    "rno_students = df[df['relationship'] == 'no']\n",
    "ryes_students = df[df['relationship'] == 'yes']\n",
    "\n",
    "print(\"Standard deviation students in a romantical relationship:\", (np.std(rno_students['drinks'], ddof=0)))\n",
    "print(\"Standard deviation not in a romantical relationship:\", (np.std(ryes_students['drinks'], ddof=0)))"
   ]
  },
  {
   "cell_type": "code",
   "execution_count": 27,
   "metadata": {},
   "outputs": [
    {
     "data": {
      "image/png": "[encoded data removed]",
      "text/plain": [
       "<Figure size 640x480 with 1 Axes>"
      ]
     },
     "metadata": {},
     "output_type": "display_data"
    }
   ],
   "source": [
    "average_drinks_per_relationship = df.groupby('relationship')['drinks'].mean()\n",
    "average_drinks_per_relationship.plot(kind='bar', title='Average drinks based on being in a romantical relationship', xlabel='Relationship status', ylabel='Drinks')\n",
    "plt.show()"
   ]
  },
  {
   "cell_type": "markdown",
   "metadata": {},
   "source": [
    "Inferential analysis:"
   ]
  },
  {
   "cell_type": "markdown",
   "metadata": {},
   "source": [
    "Based on the descriptive analysis I ask the question: Do students who arent in a romantical relationship drink more than students who are in a romantical relationship"
   ]
  },
  {
   "cell_type": "markdown",
   "metadata": {},
   "source": [
    "Hypothesis: There is a significant difference in in the average amount of drinks consumed by students who are in a relationship compared to students who arent in a relationship\n",
    "\n",
    "Null Hypothesis: There isn't a significant difference in in the average amount of drinks consumed by students who are in a relationship compared to students who arent in a relationship or the single students drink more."
   ]
  },
  {
   "cell_type": "code",
   "execution_count": 28,
   "metadata": {},
   "outputs": [
    {
     "name": "stdout",
     "output_type": "stream",
     "text": [
      "Mean average drinks students not in a romantical relationship: 6.317647058823529\n",
      "Mean average drinks students in a romantical relationship: 6.467065868263473\n"
     ]
    }
   ],
   "source": [
    "mean_rno_students = rno_students['drinks'].mean()\n",
    "mean_ryes_students = ryes_students['drinks'].mean()\n",
    "print(\"Mean average drinks students not in a romantical relationship:\", mean_rno_students)\n",
    "print(\"Mean average drinks students in a romantical relationship:\", mean_ryes_students)"
   ]
  },
  {
   "cell_type": "code",
   "execution_count": 29,
   "metadata": {},
   "outputs": [
    {
     "name": "stdout",
     "output_type": "stream",
     "text": [
      "Test outcome: TtestResult(statistic=-0.2799691535194414, pvalue=0.6101630182903895, df=335.0)\n"
     ]
    }
   ],
   "source": [
    "C42_ttest = sc.ttest_ind(rno_students['drinks'], ryes_students['drinks'], alternative='greater') \n",
    "print(f\"Test outcome: {C42_ttest}\") #the p-value is bigger than 0.05. Meaning the Hypothesis can be rejected and the 0 Hypothesis can be accepted."
   ]
  }
 ],
 "metadata": {
  "kernelspec": {
   "display_name": "Python 3",
   "language": "python",
   "name": "python3"
  },
  "language_info": {
   "codemirror_mode": {
    "name": "ipython",
    "version": 3
   },
   "file_extension": ".py",
   "mimetype": "text/x-python",
   "name": "python",
   "nbconvert_exporter": "python",
   "pygments_lexer": "ipython3",
   "version": "3.10.13"
  }
 },
 "nbformat": 4,
 "nbformat_minor": 2
}
