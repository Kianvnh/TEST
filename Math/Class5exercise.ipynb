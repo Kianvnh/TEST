{
 "cells": [
  {
   "cell_type": "code",
   "execution_count": 30,
   "metadata": {},
   "outputs": [],
   "source": [
    "import pandas as pd\n",
    "import numpy as np\n",
    "import scipy.stats as st\n",
    "from statsmodels.stats.multicomp import pairwise_tukeyhsd"
   ]
  },
  {
   "cell_type": "code",
   "execution_count": 31,
   "metadata": {},
   "outputs": [
    {
     "data": {
      "text/html": [
       "<div>\n",
       "<style scoped>\n",
       "    .dataframe tbody tr th:only-of-type {\n",
       "        vertical-align: middle;\n",
       "    }\n",
       "\n",
       "    .dataframe tbody tr th {\n",
       "        vertical-align: top;\n",
       "    }\n",
       "\n",
       "    .dataframe thead th {\n",
       "        text-align: right;\n",
       "    }\n",
       "</style>\n",
       "<table border=\"1\" class=\"dataframe\">\n",
       "  <thead>\n",
       "    <tr style=\"text-align: right;\">\n",
       "      <th></th>\n",
       "      <th>gender</th>\n",
       "      <th>race_ethnicity</th>\n",
       "      <th>parental_level_of_education</th>\n",
       "      <th>lunch</th>\n",
       "      <th>test_preparation_course</th>\n",
       "      <th>math_score</th>\n",
       "      <th>reading_score</th>\n",
       "      <th>writing_score</th>\n",
       "    </tr>\n",
       "  </thead>\n",
       "  <tbody>\n",
       "    <tr>\n",
       "      <th>0</th>\n",
       "      <td>female</td>\n",
       "      <td>group B</td>\n",
       "      <td>bachelor's degree</td>\n",
       "      <td>standard</td>\n",
       "      <td>none</td>\n",
       "      <td>72</td>\n",
       "      <td>72</td>\n",
       "      <td>74</td>\n",
       "    </tr>\n",
       "    <tr>\n",
       "      <th>1</th>\n",
       "      <td>female</td>\n",
       "      <td>group C</td>\n",
       "      <td>some college</td>\n",
       "      <td>standard</td>\n",
       "      <td>completed</td>\n",
       "      <td>69</td>\n",
       "      <td>90</td>\n",
       "      <td>88</td>\n",
       "    </tr>\n",
       "    <tr>\n",
       "      <th>2</th>\n",
       "      <td>female</td>\n",
       "      <td>group B</td>\n",
       "      <td>master's degree</td>\n",
       "      <td>standard</td>\n",
       "      <td>none</td>\n",
       "      <td>90</td>\n",
       "      <td>95</td>\n",
       "      <td>93</td>\n",
       "    </tr>\n",
       "    <tr>\n",
       "      <th>3</th>\n",
       "      <td>male</td>\n",
       "      <td>group A</td>\n",
       "      <td>associate's degree</td>\n",
       "      <td>free/reduced</td>\n",
       "      <td>none</td>\n",
       "      <td>47</td>\n",
       "      <td>57</td>\n",
       "      <td>44</td>\n",
       "    </tr>\n",
       "    <tr>\n",
       "      <th>4</th>\n",
       "      <td>male</td>\n",
       "      <td>group C</td>\n",
       "      <td>some college</td>\n",
       "      <td>standard</td>\n",
       "      <td>none</td>\n",
       "      <td>76</td>\n",
       "      <td>78</td>\n",
       "      <td>75</td>\n",
       "    </tr>\n",
       "  </tbody>\n",
       "</table>\n",
       "</div>"
      ],
      "text/plain": [
       "   gender race_ethnicity parental_level_of_education         lunch  \\\n",
       "0  female        group B           bachelor's degree      standard   \n",
       "1  female        group C                some college      standard   \n",
       "2  female        group B             master's degree      standard   \n",
       "3    male        group A          associate's degree  free/reduced   \n",
       "4    male        group C                some college      standard   \n",
       "\n",
       "  test_preparation_course  math_score  reading_score  writing_score  \n",
       "0                    none          72             72             74  \n",
       "1               completed          69             90             88  \n",
       "2                    none          90             95             93  \n",
       "3                    none          47             57             44  \n",
       "4                    none          76             78             75  "
      ]
     },
     "execution_count": 31,
     "metadata": {},
     "output_type": "execute_result"
    }
   ],
   "source": [
    "df = pd.read_csv(\"StudentsPerformance (1).csv\")\n",
    "df.head()"
   ]
  },
  {
   "cell_type": "code",
   "execution_count": 32,
   "metadata": {},
   "outputs": [
    {
     "name": "stdout",
     "output_type": "stream",
     "text": [
      "Mean math grades based on parents level of education\n",
      "Mean associates 67.88288288288288\n",
      "Mean masters 69.7457627118644\n",
      "Mean bachelor 69.38983050847457\n",
      "Mean highschool 62.13775510204081\n",
      "Mean college 67.1283185840708\n"
     ]
    }
   ],
   "source": [
    "parentslvlmasters = df[df['parental_level_of_education'] == \"master's degree\"]\n",
    "parentslvlbachelors = df[df['parental_level_of_education'] == \"bachelor's degree\"]\n",
    "parentslvlhighshool = df[df['parental_level_of_education'] == \"high school\"]\n",
    "parentslvlassociates = df[df['parental_level_of_education'] == \"associate's degree\"]\n",
    "parentslvlcollege = df[df['parental_level_of_education'] == \"some college\"]\n",
    "#all the different datasets\n",
    "\n",
    "mean_parentslvlmasters = parentslvlmasters['math_score'].mean()\n",
    "mean_parentslvlbachelor = parentslvlbachelors['math_score'].mean()\n",
    "mean_parentslvlhighschool = parentslvlhighshool['math_score'].mean()\n",
    "mean_parentslvlassociates = parentslvlassociates['math_score'].mean()\n",
    "mean_parentslvlcollege = parentslvlcollege['math_score'].mean()\n",
    "\n",
    "print('Mean math grades based on parents level of education')\n",
    "print('Mean associates', mean_parentslvlassociates)\n",
    "print('Mean masters', mean_parentslvlmasters)\n",
    "print('Mean bachelor', mean_parentslvlbachelor)\n",
    "print('Mean highschool', mean_parentslvlhighschool)\n",
    "print('Mean college', mean_parentslvlcollege)\n",
    "\n",
    "#prints the mean values for all levels.\n",
    "#!printing these means is a discriptive analysis, this is required for the final exam\n"
   ]
  },
  {
   "cell_type": "code",
   "execution_count": 33,
   "metadata": {},
   "outputs": [
    {
     "name": "stdout",
     "output_type": "stream",
     "text": [
      "F_onewayResult(statistic=6.711561302090127, pvalue=2.571851970804558e-05)\n"
     ]
    }
   ],
   "source": [
    "anova = st.f_oneway(parentslvlassociates['math_score'], parentslvlbachelors['math_score'], parentslvlcollege['math_score'], parentslvlhighshool['math_score'], parentslvlmasters['math_score'])\n",
    "print(anova)\n",
    "\n"
   ]
  },
  {
   "cell_type": "code",
   "execution_count": 34,
   "metadata": {},
   "outputs": [
    {
     "name": "stdout",
     "output_type": "stream",
     "text": [
      "            Multiple Comparison of Means - Tukey HSD, FWER=0.05             \n",
      "============================================================================\n",
      "      group1             group2      meandiff p-adj   lower    upper  reject\n",
      "----------------------------------------------------------------------------\n",
      "associate's degree bachelor's degree   1.5069 0.9503  -3.3587  6.3726  False\n",
      "associate's degree       high school  -5.7451 0.0013  -9.9311 -1.5591   True\n",
      "associate's degree   master's degree   1.8629 0.9578  -4.3927  8.1185  False\n",
      "associate's degree      some college  -0.7546 0.9948  -4.7903  3.2812  False\n",
      "associate's degree  some high school  -4.3857 0.0418   -8.676 -0.0954   True\n",
      " bachelor's degree       high school  -7.2521 0.0005 -12.2284 -2.2757   True\n",
      " bachelor's degree   master's degree   0.3559    1.0  -6.4539  7.1658  False\n",
      " bachelor's degree      some college  -2.2615 0.7676  -7.1122  2.5892  False\n",
      " bachelor's degree  some high school  -5.8926 0.0119  -10.957 -0.8282   True\n",
      "       high school   master's degree    7.608 0.0084   1.2659 13.9501   True\n",
      "       high school      some college   4.9906 0.0086    0.822  9.1592   True\n",
      "       high school  some high school   1.3595 0.9515   -3.056  5.7749  False\n",
      "   master's degree      some college  -2.6174 0.8384  -8.8614  3.6265  False\n",
      "   master's degree  some high school  -6.2486 0.0611   -12.66  0.1628  False\n",
      "      some college  some high school  -3.6311 0.1482  -7.9044  0.6422  False\n",
      "----------------------------------------------------------------------------\n"
     ]
    }
   ],
   "source": [
    "tukey_results = pairwise_tukeyhsd(endog=df['math_score'], groups=df[\"parental_level_of_education\"])\n",
    "print(tukey_results)\n",
    "#tbf no clue wtf this means but it works yipiee"
   ]
  }
 ],
 "metadata": {
  "kernelspec": {
   "display_name": "Python 3",
   "language": "python",
   "name": "python3"
  },
  "language_info": {
   "codemirror_mode": {
    "name": "ipython",
    "version": 3
   },
   "file_extension": ".py",
   "mimetype": "text/x-python",
   "name": "python",
   "nbconvert_exporter": "python",
   "pygments_lexer": "ipython3",
   "version": "3.undefined.undefined"
  }
 },
 "nbformat": 4,
 "nbformat_minor": 2
}
