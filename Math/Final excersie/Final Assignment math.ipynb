{
 "cells": [
  {
   "cell_type": "code",
   "execution_count": 64,
   "metadata": {},
   "outputs": [],
   "source": [
    "import pandas as pd\n",
    "import matplotlib.pyplot as plt\n",
    "import numpy as np\n",
    "import scipy.stats as sc\n",
    "from scipy.stats import norm"
   ]
  },
  {
   "cell_type": "code",
   "execution_count": 65,
   "metadata": {},
   "outputs": [
    {
     "data": {
      "text/html": [
       "<div>\n",
       "<style scoped>\n",
       "    .dataframe tbody tr th:only-of-type {\n",
       "        vertical-align: middle;\n",
       "    }\n",
       "\n",
       "    .dataframe tbody tr th {\n",
       "        vertical-align: top;\n",
       "    }\n",
       "\n",
       "    .dataframe thead th {\n",
       "        text-align: right;\n",
       "    }\n",
       "</style>\n",
       "<table border=\"1\" class=\"dataframe\">\n",
       "  <thead>\n",
       "    <tr style=\"text-align: right;\">\n",
       "      <th></th>\n",
       "      <th>transaction_id</th>\n",
       "      <th>transaction_date</th>\n",
       "      <th>transaction_time</th>\n",
       "      <th>transaction_qty</th>\n",
       "      <th>store_id</th>\n",
       "      <th>store_location</th>\n",
       "      <th>unit_price</th>\n",
       "      <th>product_category</th>\n",
       "      <th>product_type</th>\n",
       "    </tr>\n",
       "  </thead>\n",
       "  <tbody>\n",
       "    <tr>\n",
       "      <th>0</th>\n",
       "      <td>1</td>\n",
       "      <td>06/07/2023</td>\n",
       "      <td>17:56:22</td>\n",
       "      <td>1.0</td>\n",
       "      <td>2.0</td>\n",
       "      <td>Utrecht</td>\n",
       "      <td>4.50</td>\n",
       "      <td>Chocolate</td>\n",
       "      <td>Hot chocolate</td>\n",
       "    </tr>\n",
       "    <tr>\n",
       "      <th>1</th>\n",
       "      <td>2</td>\n",
       "      <td>06/10/2023</td>\n",
       "      <td>12:32:57</td>\n",
       "      <td>2.0</td>\n",
       "      <td>2.0</td>\n",
       "      <td>Utrecht</td>\n",
       "      <td>4.25</td>\n",
       "      <td>Coffee</td>\n",
       "      <td>Syrup coffee</td>\n",
       "    </tr>\n",
       "    <tr>\n",
       "      <th>2</th>\n",
       "      <td>3</td>\n",
       "      <td>06/05/2023</td>\n",
       "      <td>10:17:06</td>\n",
       "      <td>1.0</td>\n",
       "      <td>1.0</td>\n",
       "      <td>Alkmaar</td>\n",
       "      <td>3.00</td>\n",
       "      <td>Tea</td>\n",
       "      <td>Black tea</td>\n",
       "    </tr>\n",
       "    <tr>\n",
       "      <th>3</th>\n",
       "      <td>4</td>\n",
       "      <td>06/06/2023</td>\n",
       "      <td>15:54:08</td>\n",
       "      <td>3.0</td>\n",
       "      <td>1.0</td>\n",
       "      <td>Alkmaar</td>\n",
       "      <td>3.50</td>\n",
       "      <td>Coffee</td>\n",
       "      <td>Milk coffee</td>\n",
       "    </tr>\n",
       "    <tr>\n",
       "      <th>4</th>\n",
       "      <td>5</td>\n",
       "      <td>06/09/2023</td>\n",
       "      <td>10:08:03</td>\n",
       "      <td>1.0</td>\n",
       "      <td>3.0</td>\n",
       "      <td>Eindhoven</td>\n",
       "      <td>4.50</td>\n",
       "      <td>Chocolate</td>\n",
       "      <td>Hot chocolate</td>\n",
       "    </tr>\n",
       "  </tbody>\n",
       "</table>\n",
       "</div>"
      ],
      "text/plain": [
       "   transaction_id transaction_date transaction_time  transaction_qty  \\\n",
       "0               1       06/07/2023         17:56:22              1.0   \n",
       "1               2       06/10/2023         12:32:57              2.0   \n",
       "2               3       06/05/2023         10:17:06              1.0   \n",
       "3               4       06/06/2023         15:54:08              3.0   \n",
       "4               5       06/09/2023         10:08:03              1.0   \n",
       "\n",
       "   store_id store_location  unit_price product_category   product_type  \n",
       "0       2.0        Utrecht        4.50        Chocolate  Hot chocolate  \n",
       "1       2.0        Utrecht        4.25           Coffee   Syrup coffee  \n",
       "2       1.0        Alkmaar        3.00              Tea      Black tea  \n",
       "3       1.0        Alkmaar        3.50           Coffee    Milk coffee  \n",
       "4       3.0      Eindhoven        4.50        Chocolate  Hot chocolate  "
      ]
     },
     "execution_count": 65,
     "metadata": {},
     "output_type": "execute_result"
    }
   ],
   "source": [
    "df = pd.read_csv('dataset_1672182.csv')\n",
    "df.head()"
   ]
  },
  {
   "cell_type": "code",
   "execution_count": 66,
   "metadata": {},
   "outputs": [
    {
     "data": {
      "text/plain": [
       "transaction_id        0\n",
       "transaction_date      0\n",
       "transaction_time      0\n",
       "transaction_qty     136\n",
       "store_id             65\n",
       "store_location        0\n",
       "unit_price            0\n",
       "product_category      0\n",
       "product_type          0\n",
       "dtype: int64"
      ]
     },
     "execution_count": 66,
     "metadata": {},
     "output_type": "execute_result"
    }
   ],
   "source": [
    "df.isnull().sum()"
   ]
  },
  {
   "cell_type": "code",
   "execution_count": 67,
   "metadata": {},
   "outputs": [],
   "source": [
    "df = df.dropna()"
   ]
  },
  {
   "cell_type": "markdown",
   "metadata": {},
   "source": [
    "Question 1:"
   ]
  },
  {
   "cell_type": "code",
   "execution_count": 68,
   "metadata": {},
   "outputs": [
    {
     "name": "stdout",
     "output_type": "stream",
     "text": [
      "Amount of orders where qty>2: 1429\n",
      "Total amount of orders: 7157\n",
      "Propability that orders contains more than 1 item: 19.96646639653486 %\n"
     ]
    }
   ],
   "source": [
    "qty_count = len(df[df['transaction_qty']>2]) \n",
    "print(\"Amount of orders where qty>2:\", qty_count)\n",
    "print(\"Total amount of orders:\", len(df))\n",
    "qty_probability = qty_count/len(df)*100\n",
    "print(\"Propability that orders contains more than 1 item:\", qty_probability, \"%\")"
   ]
  },
  {
   "cell_type": "markdown",
   "metadata": {},
   "source": [
    "Question 2:"
   ]
  },
  {
   "cell_type": "code",
   "execution_count": 69,
   "metadata": {},
   "outputs": [
    {
     "data": {
      "image/png": "[encoded data removed]",
      "text/plain": [
       "<Figure size 1500x900 with 1 Axes>"
      ]
     },
     "metadata": {},
     "output_type": "display_data"
    }
   ],
   "source": [
    "x = df['product_type']\n",
    "y = df['unit_price']\n",
    "\n",
    "plt.figure(figsize=(15, 9)) \n",
    "plt.bar_label(plt.barh(x, y, height=0.6, color='blue', ), fmt='%.2f')\n",
    "plt.xlabel('Price')\n",
    "plt.ylabel('Products')\n",
    "plt.title('The different prices of products')\n",
    "plt.show()\n"
   ]
  },
  {
   "cell_type": "code",
   "execution_count": 70,
   "metadata": {},
   "outputs": [
    {
     "name": "stdout",
     "output_type": "stream",
     "text": [
      "Mean unit price: 3.8077476596339244\n",
      "Median unit price: 3.5\n"
     ]
    }
   ],
   "source": [
    "mean_unit_price = np.mean(df['unit_price'])\n",
    "median_unit_price = np.median(df['unit_price'])\n",
    "print('Mean unit price:', mean_unit_price)\n",
    "print('Median unit price:', median_unit_price)"
   ]
  },
  {
   "cell_type": "markdown",
   "metadata": {},
   "source": [
    "Question 3:"
   ]
  },
  {
   "cell_type": "code",
   "execution_count": 71,
   "metadata": {},
   "outputs": [
    {
     "data": {
      "text/html": [
       "<div>\n",
       "<style scoped>\n",
       "    .dataframe tbody tr th:only-of-type {\n",
       "        vertical-align: middle;\n",
       "    }\n",
       "\n",
       "    .dataframe tbody tr th {\n",
       "        vertical-align: top;\n",
       "    }\n",
       "\n",
       "    .dataframe thead th {\n",
       "        text-align: right;\n",
       "    }\n",
       "</style>\n",
       "<table border=\"1\" class=\"dataframe\">\n",
       "  <thead>\n",
       "    <tr style=\"text-align: right;\">\n",
       "      <th></th>\n",
       "      <th>transaction_id</th>\n",
       "      <th>transaction_date</th>\n",
       "      <th>transaction_time</th>\n",
       "      <th>transaction_qty</th>\n",
       "      <th>store_id</th>\n",
       "      <th>store_location</th>\n",
       "      <th>unit_price</th>\n",
       "      <th>product_category</th>\n",
       "      <th>product_type</th>\n",
       "      <th>revenue</th>\n",
       "    </tr>\n",
       "  </thead>\n",
       "  <tbody>\n",
       "    <tr>\n",
       "      <th>0</th>\n",
       "      <td>1</td>\n",
       "      <td>06/07/2023</td>\n",
       "      <td>17:56:22</td>\n",
       "      <td>1.0</td>\n",
       "      <td>2.0</td>\n",
       "      <td>Utrecht</td>\n",
       "      <td>4.50</td>\n",
       "      <td>Chocolate</td>\n",
       "      <td>Hot chocolate</td>\n",
       "      <td>4.5</td>\n",
       "    </tr>\n",
       "    <tr>\n",
       "      <th>1</th>\n",
       "      <td>2</td>\n",
       "      <td>06/10/2023</td>\n",
       "      <td>12:32:57</td>\n",
       "      <td>2.0</td>\n",
       "      <td>2.0</td>\n",
       "      <td>Utrecht</td>\n",
       "      <td>4.25</td>\n",
       "      <td>Coffee</td>\n",
       "      <td>Syrup coffee</td>\n",
       "      <td>8.5</td>\n",
       "    </tr>\n",
       "    <tr>\n",
       "      <th>2</th>\n",
       "      <td>3</td>\n",
       "      <td>06/05/2023</td>\n",
       "      <td>10:17:06</td>\n",
       "      <td>1.0</td>\n",
       "      <td>1.0</td>\n",
       "      <td>Alkmaar</td>\n",
       "      <td>3.00</td>\n",
       "      <td>Tea</td>\n",
       "      <td>Black tea</td>\n",
       "      <td>3.0</td>\n",
       "    </tr>\n",
       "    <tr>\n",
       "      <th>3</th>\n",
       "      <td>4</td>\n",
       "      <td>06/06/2023</td>\n",
       "      <td>15:54:08</td>\n",
       "      <td>3.0</td>\n",
       "      <td>1.0</td>\n",
       "      <td>Alkmaar</td>\n",
       "      <td>3.50</td>\n",
       "      <td>Coffee</td>\n",
       "      <td>Milk coffee</td>\n",
       "      <td>10.5</td>\n",
       "    </tr>\n",
       "    <tr>\n",
       "      <th>4</th>\n",
       "      <td>5</td>\n",
       "      <td>06/09/2023</td>\n",
       "      <td>10:08:03</td>\n",
       "      <td>1.0</td>\n",
       "      <td>3.0</td>\n",
       "      <td>Eindhoven</td>\n",
       "      <td>4.50</td>\n",
       "      <td>Chocolate</td>\n",
       "      <td>Hot chocolate</td>\n",
       "      <td>4.5</td>\n",
       "    </tr>\n",
       "  </tbody>\n",
       "</table>\n",
       "</div>"
      ],
      "text/plain": [
       "   transaction_id transaction_date transaction_time  transaction_qty  \\\n",
       "0               1       06/07/2023         17:56:22              1.0   \n",
       "1               2       06/10/2023         12:32:57              2.0   \n",
       "2               3       06/05/2023         10:17:06              1.0   \n",
       "3               4       06/06/2023         15:54:08              3.0   \n",
       "4               5       06/09/2023         10:08:03              1.0   \n",
       "\n",
       "   store_id store_location  unit_price product_category   product_type  \\\n",
       "0       2.0        Utrecht        4.50        Chocolate  Hot chocolate   \n",
       "1       2.0        Utrecht        4.25           Coffee   Syrup coffee   \n",
       "2       1.0        Alkmaar        3.00              Tea      Black tea   \n",
       "3       1.0        Alkmaar        3.50           Coffee    Milk coffee   \n",
       "4       3.0      Eindhoven        4.50        Chocolate  Hot chocolate   \n",
       "\n",
       "   revenue  \n",
       "0      4.5  \n",
       "1      8.5  \n",
       "2      3.0  \n",
       "3     10.5  \n",
       "4      4.5  "
      ]
     },
     "execution_count": 71,
     "metadata": {},
     "output_type": "execute_result"
    }
   ],
   "source": [
    "df['transaction_qty'] = pd.to_numeric(df['transaction_qty'])\n",
    "\n",
    "df.insert(9, \"revenue\", df['unit_price'] * df['transaction_qty'])\n",
    "df.head() #added revenue column to check what the total cash coming per transaction is"
   ]
  },
  {
   "cell_type": "code",
   "execution_count": 72,
   "metadata": {},
   "outputs": [
    {
     "name": "stdout",
     "output_type": "stream",
     "text": [
      "Total amount of transactions: 7157\n",
      "Total amount of money spent: 54474.2\n",
      "Average revenue per transaction: 7.611317591169484\n"
     ]
    }
   ],
   "source": [
    "print(\"Total amount of transactions:\", len(df))\n",
    "total_money_spent = (df['unit_price']*df[\"transaction_qty\"]).sum()\n",
    "print(\"Total amount of money spent:\", total_money_spent )\n",
    "print(\"Average revenue per transaction:\", (total_money_spent/len(df)))"
   ]
  },
  {
   "cell_type": "code",
   "execution_count": 73,
   "metadata": {},
   "outputs": [
    {
     "name": "stdout",
     "output_type": "stream",
     "text": [
      "The total amount of money spent per day:\n",
      "transaction_date\n",
      "06/05/2023     2687.35\n",
      "06/06/2023     6301.15\n",
      "06/07/2023     6312.35\n",
      "06/08/2023     8586.65\n",
      "06/09/2023    10192.20\n",
      "06/10/2023    11253.15\n",
      "06/11/2023     9141.35\n",
      "Name: revenue, dtype: float64\n"
     ]
    }
   ],
   "source": [
    "unit_price_per_date = df.groupby('transaction_date')[\"revenue\"].sum()\n",
    "\n",
    "print(\"The total amount of money spent per day:\")\n",
    "print(unit_price_per_date)\n"
   ]
  },
  {
   "cell_type": "code",
   "execution_count": 74,
   "metadata": {},
   "outputs": [
    {
     "name": "stdout",
     "output_type": "stream",
     "text": [
      "transaction_date\n",
      "06/05/2023     355\n",
      "06/06/2023     825\n",
      "06/07/2023     840\n",
      "06/08/2023    1097\n",
      "06/09/2023    1345\n",
      "06/10/2023    1453\n",
      "06/11/2023    1242\n",
      "dtype: int64\n"
     ]
    }
   ],
   "source": [
    "amount_of_transactions_per_day = df.groupby(df['transaction_date']).size() \n",
    "\n",
    "print(amount_of_transactions_per_day) #amount of transactions per day"
   ]
  },
  {
   "cell_type": "code",
   "execution_count": 75,
   "metadata": {},
   "outputs": [
    {
     "name": "stdout",
     "output_type": "stream",
     "text": [
      "Average value per transaction 06/05: 7.6314084507042255\n",
      "Average value per transaction 06/06: 7.7219999999999995\n",
      "Average value per transaction 06/07: 7.581071428571429\n",
      "Average value per transaction 06/08: 7.891157702825889\n",
      "Average value per transaction 06/09: 7.662602230483272\n",
      "Average value per transaction 06/10: 7.808637302133517\n",
      "Average value per transaction 06/11: 7.392391304347826\n"
     ]
    }
   ],
   "source": [
    "AV_06_05 = (2709.15/355)\n",
    "AV_06_06 = (6370.65/825)\n",
    "AV_06_07 = (6368.10/840)\n",
    "AV_06_08 = (8656.60/1097)\n",
    "AV_06_09 = (10306.20/1345)\n",
    "AV_06_10 = (11345.95/1453)\n",
    "AV_06_11 = (9181.35/1242)\n",
    "#i couldnt use the code from my previous part because it would also take the date wich resulted in a String error\n",
    "\n",
    "print(\"Average value per transaction 06/05:\", AV_06_05)\n",
    "print(\"Average value per transaction 06/06:\", AV_06_06)\n",
    "print(\"Average value per transaction 06/07:\", AV_06_07)\n",
    "print(\"Average value per transaction 06/08:\", AV_06_08)\n",
    "print(\"Average value per transaction 06/09:\", AV_06_09)\n",
    "print(\"Average value per transaction 06/10:\", AV_06_10)\n",
    "print(\"Average value per transaction 06/11:\", AV_06_11)"
   ]
  },
  {
   "cell_type": "code",
   "execution_count": 76,
   "metadata": {},
   "outputs": [
    {
     "name": "stdout",
     "output_type": "stream",
     "text": [
      "Sample mean: 7.669895488438023\n",
      "Standard deviation: 0.14993039718116674\n"
     ]
    }
   ],
   "source": [
    "#sample mean\n",
    "Sample_mean_assignment3 = (AV_06_05 + AV_06_06 + AV_06_07 + AV_06_08 + AV_06_09 + AV_06_10 + AV_06_11) / 7\n",
    "print(\"Sample mean:\", Sample_mean_assignment3)\n",
    "Average_value_pdays = AV_06_05, AV_06_06, AV_06_07, AV_06_08, AV_06_09, AV_06_10, AV_06_11\n",
    "\n",
    "Stdrd_deviation_assignment3 = np.std(Average_value_pdays, ddof=0)\n",
    "print(\"Standard deviation:\", Stdrd_deviation_assignment3)"
   ]
  },
  {
   "cell_type": "code",
   "execution_count": 77,
   "metadata": {},
   "outputs": [
    {
     "name": "stdout",
     "output_type": "stream",
     "text": [
      "95% Confidence interval: (7.666421361070426, 7.67336961580562)\n"
     ]
    }
   ],
   "source": [
    "cl = 0.95\n",
    "dg_f = len(df['revenue']) - 1\n",
    "\n",
    "confidence_interval_test = sc.t.interval(cl, dg_f, Sample_mean_assignment3, Stdrd_deviation_assignment3 / np.sqrt(len(df['revenue'])))\n",
    "print('95% Confidence interval:', confidence_interval_test)"
   ]
  },
  {
   "cell_type": "markdown",
   "metadata": {},
   "source": [
    "4A2 "
   ]
  },
  {
   "cell_type": "code",
   "execution_count": 78,
   "metadata": {},
   "outputs": [
    {
     "name": "stdout",
     "output_type": "stream",
     "text": [
      "product_type\n",
      "Black coffee               1784.00\n",
      "Black tea                  2529.00\n",
      "Chai tea                   2726.75\n",
      "Green tea                  2806.65\n",
      "Herbal tea                 3031.00\n",
      "Hot chocolate             16254.00\n",
      "Milk coffee                3230.50\n",
      "Organic blended coffee     5991.30\n",
      "Pie                        4354.00\n",
      "Sandwich                   4185.00\n",
      "Scone                      3621.00\n",
      "Syrup coffee               3961.00\n",
      "Name: revenue, dtype: float64\n"
     ]
    }
   ],
   "source": [
    "grpd_product_rv = unit_price_per_date = df.groupby('product_type')[\"revenue\"].sum()\n",
    "print(grpd_product_rv)"
   ]
  },
  {
   "cell_type": "code",
   "execution_count": 79,
   "metadata": {},
   "outputs": [
    {
     "name": "stdout",
     "output_type": "stream",
     "text": [
      "Total_money_spent 54474.2\n",
      "Mean revenue per product: 4190.323076923077\n"
     ]
    }
   ],
   "source": [
    "print('Total_money_spent', total_money_spent)\n",
    "print('Mean revenue per product:', total_money_spent/13)"
   ]
  },
  {
   "cell_type": "code",
   "execution_count": 80,
   "metadata": {},
   "outputs": [
    {
     "data": {
      "text/html": [
       "<div>\n",
       "<style scoped>\n",
       "    .dataframe tbody tr th:only-of-type {\n",
       "        vertical-align: middle;\n",
       "    }\n",
       "\n",
       "    .dataframe tbody tr th {\n",
       "        vertical-align: top;\n",
       "    }\n",
       "\n",
       "    .dataframe thead th {\n",
       "        text-align: right;\n",
       "    }\n",
       "</style>\n",
       "<table border=\"1\" class=\"dataframe\">\n",
       "  <thead>\n",
       "    <tr style=\"text-align: right;\">\n",
       "      <th></th>\n",
       "      <th>transaction_id</th>\n",
       "      <th>transaction_date</th>\n",
       "      <th>transaction_time</th>\n",
       "      <th>transaction_qty</th>\n",
       "      <th>store_id</th>\n",
       "      <th>store_location</th>\n",
       "      <th>unit_price</th>\n",
       "      <th>product_category</th>\n",
       "      <th>product_type</th>\n",
       "      <th>revenue</th>\n",
       "    </tr>\n",
       "  </thead>\n",
       "  <tbody>\n",
       "    <tr>\n",
       "      <th>0</th>\n",
       "      <td>1</td>\n",
       "      <td>06/07/2023</td>\n",
       "      <td>17:56:22</td>\n",
       "      <td>1.0</td>\n",
       "      <td>2.0</td>\n",
       "      <td>Utrecht</td>\n",
       "      <td>4.50</td>\n",
       "      <td>Chocolate</td>\n",
       "      <td>Hot chocolate</td>\n",
       "      <td>4.5</td>\n",
       "    </tr>\n",
       "    <tr>\n",
       "      <th>1</th>\n",
       "      <td>2</td>\n",
       "      <td>06/10/2023</td>\n",
       "      <td>12:32:57</td>\n",
       "      <td>2.0</td>\n",
       "      <td>2.0</td>\n",
       "      <td>Utrecht</td>\n",
       "      <td>4.25</td>\n",
       "      <td>Coffee</td>\n",
       "      <td>Syrup coffee</td>\n",
       "      <td>8.5</td>\n",
       "    </tr>\n",
       "    <tr>\n",
       "      <th>2</th>\n",
       "      <td>3</td>\n",
       "      <td>06/05/2023</td>\n",
       "      <td>10:17:06</td>\n",
       "      <td>1.0</td>\n",
       "      <td>1.0</td>\n",
       "      <td>Alkmaar</td>\n",
       "      <td>3.00</td>\n",
       "      <td>Tea</td>\n",
       "      <td>Black tea</td>\n",
       "      <td>3.0</td>\n",
       "    </tr>\n",
       "    <tr>\n",
       "      <th>3</th>\n",
       "      <td>4</td>\n",
       "      <td>06/06/2023</td>\n",
       "      <td>15:54:08</td>\n",
       "      <td>3.0</td>\n",
       "      <td>1.0</td>\n",
       "      <td>Alkmaar</td>\n",
       "      <td>3.50</td>\n",
       "      <td>Coffee</td>\n",
       "      <td>Milk coffee</td>\n",
       "      <td>10.5</td>\n",
       "    </tr>\n",
       "    <tr>\n",
       "      <th>4</th>\n",
       "      <td>5</td>\n",
       "      <td>06/09/2023</td>\n",
       "      <td>10:08:03</td>\n",
       "      <td>1.0</td>\n",
       "      <td>3.0</td>\n",
       "      <td>Eindhoven</td>\n",
       "      <td>4.50</td>\n",
       "      <td>Chocolate</td>\n",
       "      <td>Hot chocolate</td>\n",
       "      <td>4.5</td>\n",
       "    </tr>\n",
       "  </tbody>\n",
       "</table>\n",
       "</div>"
      ],
      "text/plain": [
       "   transaction_id transaction_date transaction_time  transaction_qty  \\\n",
       "0               1       06/07/2023         17:56:22              1.0   \n",
       "1               2       06/10/2023         12:32:57              2.0   \n",
       "2               3       06/05/2023         10:17:06              1.0   \n",
       "3               4       06/06/2023         15:54:08              3.0   \n",
       "4               5       06/09/2023         10:08:03              1.0   \n",
       "\n",
       "   store_id store_location  unit_price product_category   product_type  \\\n",
       "0       2.0        Utrecht        4.50        Chocolate  Hot chocolate   \n",
       "1       2.0        Utrecht        4.25           Coffee   Syrup coffee   \n",
       "2       1.0        Alkmaar        3.00              Tea      Black tea   \n",
       "3       1.0        Alkmaar        3.50           Coffee    Milk coffee   \n",
       "4       3.0      Eindhoven        4.50        Chocolate  Hot chocolate   \n",
       "\n",
       "   revenue  \n",
       "0      4.5  \n",
       "1      8.5  \n",
       "2      3.0  \n",
       "3     10.5  \n",
       "4      4.5  "
      ]
     },
     "execution_count": 80,
     "metadata": {},
     "output_type": "execute_result"
    }
   ],
   "source": [
    "df.head()"
   ]
  },
  {
   "cell_type": "code",
   "execution_count": 81,
   "metadata": {},
   "outputs": [
    {
     "name": "stdout",
     "output_type": "stream",
     "text": [
      "Sample size: 14316.0\n",
      "Mean price: 3.8077476596339244\n",
      "Standard deviation: 1.1358903616019667\n"
     ]
    }
   ],
   "source": [
    "products_sold = df['transaction_qty'].sum()\n",
    "print(\"Sample size:\", products_sold)\n",
    "price_mean = np.mean(df['unit_price'])\n",
    "print('Mean price:', price_mean)\n",
    "unique_prices = df['unit_price'].unique()\n",
    "Stdrd_deviation_4A2 = np.std(unique_prices, ddof=0)\n",
    "print('Standard deviation:', Stdrd_deviation_4A2)"
   ]
  },
  {
   "cell_type": "code",
   "execution_count": 82,
   "metadata": {},
   "outputs": [
    {
     "name": "stdout",
     "output_type": "stream",
     "text": [
      "95% Confidence interval: (3.781427261195557, 3.8340680580722917)\n"
     ]
    }
   ],
   "source": [
    "cl_4A2 = 0.95\n",
    "ln4A2 = len(df['unit_price']) - 1\n",
    "\n",
    "cit_4A2 = sc.t.interval(cl_4A2, ln4A2, price_mean, Stdrd_deviation_4A2 / np.sqrt(len(df['unit_price'])))\n",
    "print('95% Confidence interval:', cit_4A2)"
   ]
  },
  {
   "cell_type": "code",
   "execution_count": 83,
   "metadata": {},
   "outputs": [
    {
     "name": "stdout",
     "output_type": "stream",
     "text": [
      "0.0\n"
     ]
    }
   ],
   "source": [
    "test_4A2 = 1-norm(loc = 0, scale = Stdrd_deviation_4A2).cdf(4190.32)\n",
    "print(test_4A2)\n",
    "#because the result is so small there is evidence there is a product that is 4190.32 more expensive than the other products. So the hypothesis was correct."
   ]
  },
  {
   "cell_type": "markdown",
   "metadata": {},
   "source": [
    "Because our result is <0.05 the hypothesis is true."
   ]
  },
  {
   "cell_type": "markdown",
   "metadata": {},
   "source": [
    "5E1:"
   ]
  },
  {
   "cell_type": "code",
   "execution_count": 84,
   "metadata": {},
   "outputs": [
    {
     "name": "stdout",
     "output_type": "stream",
     "text": [
      "The total amount of money spent per day:\n",
      "transaction_date\n",
      "06/05/2023     2687.35\n",
      "06/06/2023     6301.15\n",
      "06/07/2023     6312.35\n",
      "06/08/2023     8586.65\n",
      "06/09/2023    10192.20\n",
      "06/10/2023    11253.15\n",
      "06/11/2023     9141.35\n",
      "Name: revenue, dtype: float64\n"
     ]
    }
   ],
   "source": [
    "unit_price_per_date = df.groupby('transaction_date')[\"revenue\"].sum()\n",
    "\n",
    "print(\"The total amount of money spent per day:\")\n",
    "print(unit_price_per_date)\n",
    "\n",
    "#A descriptive analysis to see the amount of money spent per day."
   ]
  },
  {
   "cell_type": "code",
   "execution_count": 85,
   "metadata": {},
   "outputs": [
    {
     "name": "stdout",
     "output_type": "stream",
     "text": [
      "transaction_date\n",
      "06/05/2023     355\n",
      "06/06/2023     825\n",
      "06/07/2023     840\n",
      "06/08/2023    1097\n",
      "06/09/2023    1345\n",
      "06/10/2023    1453\n",
      "06/11/2023    1242\n",
      "dtype: int64\n"
     ]
    }
   ],
   "source": [
    "amount_of_transactions_per_day = df.groupby(df['transaction_date']).size() \n",
    "\n",
    "print(amount_of_transactions_per_day) #amount of transactions per day"
   ]
  },
  {
   "cell_type": "markdown",
   "metadata": {},
   "source": [
    "Comparing the lowest day of money coming in to the highest day. 11253.15 - 2687.35 = 8565.80 revenue less, wich is 8565.80/3.8077476596339244 = ~2.250 less orders coming in.\n"
   ]
  },
  {
   "cell_type": "code",
   "execution_count": 86,
   "metadata": {},
   "outputs": [
    {
     "name": "stdout",
     "output_type": "stream",
     "text": [
      "Sample size: 7157\n",
      "Mean revenue: 7.611317591169484\n",
      "Standard deviation: 8.165458414021291\n"
     ]
    }
   ],
   "source": [
    "print(\"Sample size:\", len(df))\n",
    "revenue_mean = np.mean(df['revenue'])\n",
    "print('Mean revenue:', revenue_mean)\n",
    "unqiue_revenue = df['revenue'].unique()\n",
    "Stdrd_deviation_5E1 = np.std(unqiue_revenue, ddof=0)\n",
    "print('Standard deviation:', Stdrd_deviation_5E1)"
   ]
  },
  {
   "cell_type": "code",
   "execution_count": 87,
   "metadata": {},
   "outputs": [
    {
     "name": "stdout",
     "output_type": "stream",
     "text": [
      "95% Confidence interval: (7.422110845382985, 7.8005243369559825)\n"
     ]
    }
   ],
   "source": [
    "cl_5E1 = 0.95\n",
    "ln5E1 = len(df['revenue']) - 1 #using sc.t.interval because n>30 and sigma is known\n",
    "\n",
    "cit_5E1 = sc.t.interval(cl_5E1, ln5E1, revenue_mean, Stdrd_deviation_5E1 / np.sqrt(len(df['revenue'])))\n",
    "print('95% Confidence interval:', cit_5E1)"
   ]
  },
  {
   "cell_type": "code",
   "execution_count": 88,
   "metadata": {},
   "outputs": [
    {
     "data": {
      "text/plain": [
       "0.0"
      ]
     },
     "execution_count": 88,
     "metadata": {},
     "output_type": "execute_result"
    }
   ],
   "source": [
    "1-norm(loc = 0, scale = Stdrd_deviation_5E1).cdf(2250)"
   ]
  },
  {
   "cell_type": "markdown",
   "metadata": {},
   "source": [
    "Because the P-value is smaller than 0.05 the result is statistically significant, meaning the hypothesis is right."
   ]
  },
  {
   "cell_type": "markdown",
   "metadata": {},
   "source": [
    "Advice: \n",
    "Because our hypothesis was right and the descriptive analysis tells us that there was an issu. TTR should look into advertising or special deals to attract customers even on the days the revenue is usually the lowest."
   ]
  },
  {
   "cell_type": "code",
   "execution_count": 89,
   "metadata": {},
   "outputs": [
    {
     "data": {
      "text/html": [
       "<div>\n",
       "<style scoped>\n",
       "    .dataframe tbody tr th:only-of-type {\n",
       "        vertical-align: middle;\n",
       "    }\n",
       "\n",
       "    .dataframe tbody tr th {\n",
       "        vertical-align: top;\n",
       "    }\n",
       "\n",
       "    .dataframe thead th {\n",
       "        text-align: right;\n",
       "    }\n",
       "</style>\n",
       "<table border=\"1\" class=\"dataframe\">\n",
       "  <thead>\n",
       "    <tr style=\"text-align: right;\">\n",
       "      <th></th>\n",
       "      <th>transaction_id</th>\n",
       "      <th>transaction_date</th>\n",
       "      <th>transaction_time</th>\n",
       "      <th>transaction_qty</th>\n",
       "      <th>store_id</th>\n",
       "      <th>store_location</th>\n",
       "      <th>unit_price</th>\n",
       "      <th>product_category</th>\n",
       "      <th>product_type</th>\n",
       "      <th>revenue</th>\n",
       "    </tr>\n",
       "  </thead>\n",
       "  <tbody>\n",
       "    <tr>\n",
       "      <th>0</th>\n",
       "      <td>1</td>\n",
       "      <td>06/07/2023</td>\n",
       "      <td>17:56:22</td>\n",
       "      <td>1.0</td>\n",
       "      <td>2.0</td>\n",
       "      <td>Utrecht</td>\n",
       "      <td>4.50</td>\n",
       "      <td>Chocolate</td>\n",
       "      <td>Hot chocolate</td>\n",
       "      <td>4.5</td>\n",
       "    </tr>\n",
       "    <tr>\n",
       "      <th>1</th>\n",
       "      <td>2</td>\n",
       "      <td>06/10/2023</td>\n",
       "      <td>12:32:57</td>\n",
       "      <td>2.0</td>\n",
       "      <td>2.0</td>\n",
       "      <td>Utrecht</td>\n",
       "      <td>4.25</td>\n",
       "      <td>Coffee</td>\n",
       "      <td>Syrup coffee</td>\n",
       "      <td>8.5</td>\n",
       "    </tr>\n",
       "    <tr>\n",
       "      <th>2</th>\n",
       "      <td>3</td>\n",
       "      <td>06/05/2023</td>\n",
       "      <td>10:17:06</td>\n",
       "      <td>1.0</td>\n",
       "      <td>1.0</td>\n",
       "      <td>Alkmaar</td>\n",
       "      <td>3.00</td>\n",
       "      <td>Tea</td>\n",
       "      <td>Black tea</td>\n",
       "      <td>3.0</td>\n",
       "    </tr>\n",
       "    <tr>\n",
       "      <th>3</th>\n",
       "      <td>4</td>\n",
       "      <td>06/06/2023</td>\n",
       "      <td>15:54:08</td>\n",
       "      <td>3.0</td>\n",
       "      <td>1.0</td>\n",
       "      <td>Alkmaar</td>\n",
       "      <td>3.50</td>\n",
       "      <td>Coffee</td>\n",
       "      <td>Milk coffee</td>\n",
       "      <td>10.5</td>\n",
       "    </tr>\n",
       "    <tr>\n",
       "      <th>4</th>\n",
       "      <td>5</td>\n",
       "      <td>06/09/2023</td>\n",
       "      <td>10:08:03</td>\n",
       "      <td>1.0</td>\n",
       "      <td>3.0</td>\n",
       "      <td>Eindhoven</td>\n",
       "      <td>4.50</td>\n",
       "      <td>Chocolate</td>\n",
       "      <td>Hot chocolate</td>\n",
       "      <td>4.5</td>\n",
       "    </tr>\n",
       "  </tbody>\n",
       "</table>\n",
       "</div>"
      ],
      "text/plain": [
       "   transaction_id transaction_date transaction_time  transaction_qty  \\\n",
       "0               1       06/07/2023         17:56:22              1.0   \n",
       "1               2       06/10/2023         12:32:57              2.0   \n",
       "2               3       06/05/2023         10:17:06              1.0   \n",
       "3               4       06/06/2023         15:54:08              3.0   \n",
       "4               5       06/09/2023         10:08:03              1.0   \n",
       "\n",
       "   store_id store_location  unit_price product_category   product_type  \\\n",
       "0       2.0        Utrecht        4.50        Chocolate  Hot chocolate   \n",
       "1       2.0        Utrecht        4.25           Coffee   Syrup coffee   \n",
       "2       1.0        Alkmaar        3.00              Tea      Black tea   \n",
       "3       1.0        Alkmaar        3.50           Coffee    Milk coffee   \n",
       "4       3.0      Eindhoven        4.50        Chocolate  Hot chocolate   \n",
       "\n",
       "   revenue  \n",
       "0      4.5  \n",
       "1      8.5  \n",
       "2      3.0  \n",
       "3     10.5  \n",
       "4      4.5  "
      ]
     },
     "execution_count": 89,
     "metadata": {},
     "output_type": "execute_result"
    }
   ],
   "source": [
    "df.head()"
   ]
  },
  {
   "cell_type": "markdown",
   "metadata": {},
   "source": [
    "6C1"
   ]
  },
  {
   "cell_type": "code",
   "execution_count": 90,
   "metadata": {},
   "outputs": [
    {
     "name": "stdout",
     "output_type": "stream",
     "text": [
      "store_location\n",
      "Alkmaar      17174.3\n",
      "Eindhoven    13618.5\n",
      "Utrecht      23681.4\n",
      "Name: revenue, dtype: float64\n"
     ]
    }
   ],
   "source": [
    "revenue_per_location = df.groupby('store_location')[\"revenue\"].sum()\n",
    "print(revenue_per_location)\n",
    "\n",
    "#A descriptive analysis to see the revenue per store."
   ]
  },
  {
   "cell_type": "markdown",
   "metadata": {},
   "source": [
    "Based on the descreptive analysis to see the revenue per store, we can conclude that Utrecht is our best selling store and Eindhoven our worst. My inferitive analyis is that the stores normally dont deviate more than 18158.06 - 13618,50 = 4.539,56 from eachother"
   ]
  },
  {
   "cell_type": "markdown",
   "metadata": {},
   "source": [
    "My inferitive analyis is that this was a 'one off' case and the stores normally do have comparable revenues.\n",
    "Hypothesis: The stores normally dont deviate more than 18158.06 - 13618,50 = 4.539,56 from eachother\n",
    "0-hypothesis: The stores always have large gaps in revenue"
   ]
  },
  {
   "cell_type": "code",
   "execution_count": 91,
   "metadata": {},
   "outputs": [
    {
     "name": "stdout",
     "output_type": "stream",
     "text": [
      "Sample size: 7157\n",
      "Mean revenue: 18158.066666666666\n",
      "Standard deviation: 0.0\n"
     ]
    }
   ],
   "source": [
    "print(\"Sample size:\", len(df))\n",
    "revenue_store_mean = ((17174.3 + 13618.5 + 23681.4) / 3)\n",
    "print('Mean revenue:', revenue_store_mean)\n",
    "unqiue_stores = 3\n",
    "Stdrd_deviation_6C1 = np.std(unqiue_stores, ddof=0)\n",
    "print('Standard deviation:', Stdrd_deviation_6C1)"
   ]
  },
  {
   "cell_type": "code",
   "execution_count": 92,
   "metadata": {},
   "outputs": [
    {
     "name": "stderr",
     "output_type": "stream",
     "text": [
      "/home/codespace/.local/lib/python3.10/site-packages/scipy/stats/_distn_infrastructure.py:2069: RuntimeWarning: divide by zero encountered in divide\n",
      "  x = np.asarray((x - loc)/scale, dtype=dtyp)\n"
     ]
    },
    {
     "data": {
      "text/plain": [
       "nan"
      ]
     },
     "execution_count": 92,
     "metadata": {},
     "output_type": "execute_result"
    }
   ],
   "source": [
    "1-norm(loc = 0, scale = Stdrd_deviation_6C1).cdf(4539.56) #I dont know why i got a nan value from this."
   ]
  }
 ],
 "metadata": {
  "kernelspec": {
   "display_name": "Python 3",
   "language": "python",
   "name": "python3"
  },
  "language_info": {
   "codemirror_mode": {
    "name": "ipython",
    "version": 3
   },
   "file_extension": ".py",
   "mimetype": "text/x-python",
   "name": "python",
   "nbconvert_exporter": "python",
   "pygments_lexer": "ipython3",
   "version": "3.10.13"
  }
 },
 "nbformat": 4,
 "nbformat_minor": 2
}
