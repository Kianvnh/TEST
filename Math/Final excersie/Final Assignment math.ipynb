{
 "cells": [
  {
   "cell_type": "code",
   "execution_count": 3,
   "metadata": {},
   "outputs": [],
   "source": [
    "import pandas as pd\n",
    "import matplotlib.pyplot as plt\n",
    "import numpy as np"
   ]
  },
  {
   "cell_type": "code",
   "execution_count": 4,
   "metadata": {},
   "outputs": [
    {
     "data": {
      "text/html": [
       "<div>\n",
       "<style scoped>\n",
       "    .dataframe tbody tr th:only-of-type {\n",
       "        vertical-align: middle;\n",
       "    }\n",
       "\n",
       "    .dataframe tbody tr th {\n",
       "        vertical-align: top;\n",
       "    }\n",
       "\n",
       "    .dataframe thead th {\n",
       "        text-align: right;\n",
       "    }\n",
       "</style>\n",
       "<table border=\"1\" class=\"dataframe\">\n",
       "  <thead>\n",
       "    <tr style=\"text-align: right;\">\n",
       "      <th></th>\n",
       "      <th>transaction_id</th>\n",
       "      <th>transaction_date</th>\n",
       "      <th>transaction_time</th>\n",
       "      <th>transaction_qty</th>\n",
       "      <th>store_id</th>\n",
       "      <th>store_location</th>\n",
       "      <th>unit_price</th>\n",
       "      <th>product_category</th>\n",
       "      <th>product_type</th>\n",
       "    </tr>\n",
       "  </thead>\n",
       "  <tbody>\n",
       "    <tr>\n",
       "      <th>0</th>\n",
       "      <td>1</td>\n",
       "      <td>06/07/2023</td>\n",
       "      <td>17:56:22</td>\n",
       "      <td>1.0</td>\n",
       "      <td>2.0</td>\n",
       "      <td>Utrecht</td>\n",
       "      <td>4.50</td>\n",
       "      <td>Chocolate</td>\n",
       "      <td>Hot chocolate</td>\n",
       "    </tr>\n",
       "    <tr>\n",
       "      <th>1</th>\n",
       "      <td>2</td>\n",
       "      <td>06/10/2023</td>\n",
       "      <td>12:32:57</td>\n",
       "      <td>2.0</td>\n",
       "      <td>2.0</td>\n",
       "      <td>Utrecht</td>\n",
       "      <td>4.25</td>\n",
       "      <td>Coffee</td>\n",
       "      <td>Syrup coffee</td>\n",
       "    </tr>\n",
       "    <tr>\n",
       "      <th>2</th>\n",
       "      <td>3</td>\n",
       "      <td>06/05/2023</td>\n",
       "      <td>10:17:06</td>\n",
       "      <td>1.0</td>\n",
       "      <td>1.0</td>\n",
       "      <td>Alkmaar</td>\n",
       "      <td>3.00</td>\n",
       "      <td>Tea</td>\n",
       "      <td>Black tea</td>\n",
       "    </tr>\n",
       "    <tr>\n",
       "      <th>3</th>\n",
       "      <td>4</td>\n",
       "      <td>06/06/2023</td>\n",
       "      <td>15:54:08</td>\n",
       "      <td>3.0</td>\n",
       "      <td>1.0</td>\n",
       "      <td>Alkmaar</td>\n",
       "      <td>3.50</td>\n",
       "      <td>Coffee</td>\n",
       "      <td>Milk coffee</td>\n",
       "    </tr>\n",
       "    <tr>\n",
       "      <th>4</th>\n",
       "      <td>5</td>\n",
       "      <td>06/09/2023</td>\n",
       "      <td>10:08:03</td>\n",
       "      <td>1.0</td>\n",
       "      <td>3.0</td>\n",
       "      <td>Eindhoven</td>\n",
       "      <td>4.50</td>\n",
       "      <td>Chocolate</td>\n",
       "      <td>Hot chocolate</td>\n",
       "    </tr>\n",
       "  </tbody>\n",
       "</table>\n",
       "</div>"
      ],
      "text/plain": [
       "   transaction_id transaction_date transaction_time  transaction_qty  \\\n",
       "0               1       06/07/2023         17:56:22              1.0   \n",
       "1               2       06/10/2023         12:32:57              2.0   \n",
       "2               3       06/05/2023         10:17:06              1.0   \n",
       "3               4       06/06/2023         15:54:08              3.0   \n",
       "4               5       06/09/2023         10:08:03              1.0   \n",
       "\n",
       "   store_id store_location  unit_price product_category   product_type  \n",
       "0       2.0        Utrecht        4.50        Chocolate  Hot chocolate  \n",
       "1       2.0        Utrecht        4.25           Coffee   Syrup coffee  \n",
       "2       1.0        Alkmaar        3.00              Tea      Black tea  \n",
       "3       1.0        Alkmaar        3.50           Coffee    Milk coffee  \n",
       "4       3.0      Eindhoven        4.50        Chocolate  Hot chocolate  "
      ]
     },
     "execution_count": 4,
     "metadata": {},
     "output_type": "execute_result"
    }
   ],
   "source": [
    "df = pd.read_csv('dataset_1672182.csv')\n",
    "df.head()"
   ]
  },
  {
   "cell_type": "code",
   "execution_count": 5,
   "metadata": {},
   "outputs": [
    {
     "name": "stdout",
     "output_type": "stream",
     "text": [
      "Amount of orders where qty>1: 4371\n",
      "Total amount of orders: 7356\n",
      "Propability that  orders contains more than 1 item: 59.42088091353996 %\n"
     ]
    }
   ],
   "source": [
    "qty_count = len(df[df['transaction_qty']>1])\n",
    "print(\"Amount of orders where qty>1:\", qty_count)\n",
    "print(\"Total amount of orders:\", len(df))\n",
    "qty_probability = qty_count/len(df)*100\n",
    "print(\"Propability that  orders contains more than 1 item:\", qty_probability, \"%\")"
   ]
  },
  {
   "cell_type": "code",
   "execution_count": 6,
   "metadata": {},
   "outputs": [
    {
     "data": {
      "image/png": "[encoded data removed]",
      "text/plain": [
       "<Figure size 640x480 with 1 Axes>"
      ]
     },
     "metadata": {},
     "output_type": "display_data"
    }
   ],
   "source": [
    "x = df['product_type']\n",
    "y = df['unit_price']\n",
    "\n",
    "model1 = plt.barh(x, y, height=0.5) #labels pre category toevoegen"
   ]
  },
  {
   "cell_type": "code",
   "execution_count": 7,
   "metadata": {},
   "outputs": [
    {
     "name": "stdout",
     "output_type": "stream",
     "text": [
      "Mean unit price: 3.8065524741707444\n",
      "Median unit price: 3.5\n"
     ]
    }
   ],
   "source": [
    "mean_unit_price = np.mean(df['unit_price'])\n",
    "median_unit_price = np.median(df['unit_price'])\n",
    "print('Mean unit price:', mean_unit_price)\n",
    "print('Median unit price:', median_unit_price)"
   ]
  },
  {
   "cell_type": "markdown",
   "metadata": {},
   "source": [
    "The Mean is bigger than the Median so the unit prices are Right-skewed. This means there are reletively more cheaper products than there are expensive products"
   ]
  },
  {
   "cell_type": "markdown",
   "metadata": {},
   "source": [
    "Question 3:"
   ]
  },
  {
   "cell_type": "code",
   "execution_count": 31,
   "metadata": {},
   "outputs": [
    {
     "data": {
      "text/html": [
       "<div>\n",
       "<style scoped>\n",
       "    .dataframe tbody tr th:only-of-type {\n",
       "        vertical-align: middle;\n",
       "    }\n",
       "\n",
       "    .dataframe tbody tr th {\n",
       "        vertical-align: top;\n",
       "    }\n",
       "\n",
       "    .dataframe thead th {\n",
       "        text-align: right;\n",
       "    }\n",
       "</style>\n",
       "<table border=\"1\" class=\"dataframe\">\n",
       "  <thead>\n",
       "    <tr style=\"text-align: right;\">\n",
       "      <th></th>\n",
       "      <th>transaction_id</th>\n",
       "      <th>transaction_date</th>\n",
       "      <th>transaction_time</th>\n",
       "      <th>transaction_qty</th>\n",
       "      <th>store_id</th>\n",
       "      <th>store_location</th>\n",
       "      <th>unit_price</th>\n",
       "      <th>product_category</th>\n",
       "      <th>product_type</th>\n",
       "      <th>revenue</th>\n",
       "    </tr>\n",
       "  </thead>\n",
       "  <tbody>\n",
       "    <tr>\n",
       "      <th>0</th>\n",
       "      <td>1</td>\n",
       "      <td>06/07/2023</td>\n",
       "      <td>17:56:22</td>\n",
       "      <td>1.0</td>\n",
       "      <td>2.0</td>\n",
       "      <td>Utrecht</td>\n",
       "      <td>4.50</td>\n",
       "      <td>Chocolate</td>\n",
       "      <td>Hot chocolate</td>\n",
       "      <td>4.5</td>\n",
       "    </tr>\n",
       "    <tr>\n",
       "      <th>1</th>\n",
       "      <td>2</td>\n",
       "      <td>06/10/2023</td>\n",
       "      <td>12:32:57</td>\n",
       "      <td>2.0</td>\n",
       "      <td>2.0</td>\n",
       "      <td>Utrecht</td>\n",
       "      <td>4.25</td>\n",
       "      <td>Coffee</td>\n",
       "      <td>Syrup coffee</td>\n",
       "      <td>8.5</td>\n",
       "    </tr>\n",
       "    <tr>\n",
       "      <th>2</th>\n",
       "      <td>3</td>\n",
       "      <td>06/05/2023</td>\n",
       "      <td>10:17:06</td>\n",
       "      <td>1.0</td>\n",
       "      <td>1.0</td>\n",
       "      <td>Alkmaar</td>\n",
       "      <td>3.00</td>\n",
       "      <td>Tea</td>\n",
       "      <td>Black tea</td>\n",
       "      <td>3.0</td>\n",
       "    </tr>\n",
       "    <tr>\n",
       "      <th>3</th>\n",
       "      <td>4</td>\n",
       "      <td>06/06/2023</td>\n",
       "      <td>15:54:08</td>\n",
       "      <td>3.0</td>\n",
       "      <td>1.0</td>\n",
       "      <td>Alkmaar</td>\n",
       "      <td>3.50</td>\n",
       "      <td>Coffee</td>\n",
       "      <td>Milk coffee</td>\n",
       "      <td>10.5</td>\n",
       "    </tr>\n",
       "    <tr>\n",
       "      <th>4</th>\n",
       "      <td>5</td>\n",
       "      <td>06/09/2023</td>\n",
       "      <td>10:08:03</td>\n",
       "      <td>1.0</td>\n",
       "      <td>3.0</td>\n",
       "      <td>Eindhoven</td>\n",
       "      <td>4.50</td>\n",
       "      <td>Chocolate</td>\n",
       "      <td>Hot chocolate</td>\n",
       "      <td>4.5</td>\n",
       "    </tr>\n",
       "  </tbody>\n",
       "</table>\n",
       "</div>"
      ],
      "text/plain": [
       "   transaction_id transaction_date transaction_time  transaction_qty  \\\n",
       "0               1       06/07/2023         17:56:22              1.0   \n",
       "1               2       06/10/2023         12:32:57              2.0   \n",
       "2               3       06/05/2023         10:17:06              1.0   \n",
       "3               4       06/06/2023         15:54:08              3.0   \n",
       "4               5       06/09/2023         10:08:03              1.0   \n",
       "\n",
       "   store_id store_location  unit_price product_category   product_type  \\\n",
       "0       2.0        Utrecht        4.50        Chocolate  Hot chocolate   \n",
       "1       2.0        Utrecht        4.25           Coffee   Syrup coffee   \n",
       "2       1.0        Alkmaar        3.00              Tea      Black tea   \n",
       "3       1.0        Alkmaar        3.50           Coffee    Milk coffee   \n",
       "4       3.0      Eindhoven        4.50        Chocolate  Hot chocolate   \n",
       "\n",
       "   revenue  \n",
       "0      4.5  \n",
       "1      8.5  \n",
       "2      3.0  \n",
       "3     10.5  \n",
       "4      4.5  "
      ]
     },
     "execution_count": 31,
     "metadata": {},
     "output_type": "execute_result"
    }
   ],
   "source": [
    "df['transaction_qty'] = pd.to_numeric(df['transaction_qty'])\n",
    "\n",
    "df.insert(9, \"revenue\", df['unit_price'] * df['transaction_qty'])\n",
    "df.head() #added revenue column to check what the total cash coming per transaction is"
   ]
  },
  {
   "cell_type": "code",
   "execution_count": 61,
   "metadata": {},
   "outputs": [
    {
     "name": "stdout",
     "output_type": "stream",
     "text": [
      "Total amount of transactions: 7356\n",
      "Total amount of money spent: 54938.0\n",
      "Average revenue per transaction: 7.468461120174007\n"
     ]
    }
   ],
   "source": [
    "print(\"Total amount of transactions:\", len(df))\n",
    "total_money_spent = (df['unit_price']*df[\"transaction_qty\"]).sum()\n",
    "print(\"Total amount of money spent:\", total_money_spent )\n",
    "print(\"Average revenue per transaction:\", (total_money_spent/len(df)))"
   ]
  },
  {
   "cell_type": "code",
   "execution_count": 32,
   "metadata": {},
   "outputs": [
    {
     "name": "stdout",
     "output_type": "stream",
     "text": [
      "The total amount of money spent per day:\n",
      "transaction_date\n",
      "06/05/2023     2709.15\n",
      "06/06/2023     6370.65\n",
      "06/07/2023     6368.10\n",
      "06/08/2023     8656.60\n",
      "06/09/2023    10306.20\n",
      "06/10/2023    11345.95\n",
      "06/11/2023     9181.35\n",
      "Name: revenue, dtype: float64\n"
     ]
    }
   ],
   "source": [
    "unit_price_per_date = df.groupby('transaction_date')[\"revenue\"].sum()\n",
    "\n",
    "print(\"The total amount of money spent per day:\")\n",
    "print(unit_price_per_date)\n",
    "\n",
    "#ik snap nog niet helemaal wat ze met de interval en likely to fall bedoelen \n",
    "\n",
    "#06/05 was a really bad day\n",
    "#06/10 was a really good day\n",
    "\n",
    "#zorgen voor een gemiddelde uitgegeven geld per dag\n",
    "# dus ook het aantal transactie per dag te weten komen "
   ]
  },
  {
   "cell_type": "code",
   "execution_count": 35,
   "metadata": {},
   "outputs": [
    {
     "name": "stdout",
     "output_type": "stream",
     "text": [
      "transaction_date\n",
      "06/05/2023     365\n",
      "06/06/2023     846\n",
      "06/07/2023     868\n",
      "06/08/2023    1130\n",
      "06/09/2023    1379\n",
      "06/10/2023    1496\n",
      "06/11/2023    1272\n",
      "dtype: int64\n"
     ]
    }
   ],
   "source": [
    "test = df.groupby(df['transaction_date']).size()\n",
    "\n",
    "print(test) #amout of transaction per day"
   ]
  },
  {
   "cell_type": "code",
   "execution_count": 59,
   "metadata": {},
   "outputs": [
    {
     "name": "stdout",
     "output_type": "stream",
     "text": [
      "Average value per transaction 06/05: 7.422328767123288\n",
      "Average value per transaction 06/06: 7.53031914893617\n",
      "Average value per transaction 06/07: 7.33652073732719\n",
      "Average value per transaction 06/08: 7.66070796460177\n",
      "Average value per transaction 06/09: 7.473676577229877\n",
      "Average value per transaction 06/10: 7.584191176470589\n",
      "Average value per transaction 06/11: 7.218042452830189\n"
     ]
    }
   ],
   "source": [
    "print(\"Average value per transaction 06/05:\", 2709.15/365)\n",
    "print(\"Average value per transaction 06/06:\", 6370.65/846)\n",
    "print(\"Average value per transaction 06/07:\", 6368.10/868)\n",
    "print(\"Average value per transaction 06/08:\", 8656.60/1130)\n",
    "print(\"Average value per transaction 06/09:\", 10306.20/1379)\n",
    "print(\"Average value per transaction 06/10:\", 11345.95/1496)\n",
    "print(\"Average value per transaction 06/11:\", 9181.35/1272)\n",
    "\n",
    "#zondag 06/11 is de slechtste dag, woensdag 06/07 is ook slecht. donderdag 06/08 is het best"
   ]
  },
  {
   "cell_type": "markdown",
   "metadata": {},
   "source": [
    "4: :)))))))))"
   ]
  }
 ],
 "metadata": {
  "kernelspec": {
   "display_name": "Python 3",
   "language": "python",
   "name": "python3"
  },
  "language_info": {
   "codemirror_mode": {
    "name": "ipython",
    "version": 3
   },
   "file_extension": ".py",
   "mimetype": "text/x-python",
   "name": "python",
   "nbconvert_exporter": "python",
   "pygments_lexer": "ipython3",
   "version": "3.10.13"
  }
 },
 "nbformat": 4,
 "nbformat_minor": 2
}
