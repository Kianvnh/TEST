{
 "cells": [
  {
   "cell_type": "code",
   "execution_count": 1,
   "metadata": {},
   "outputs": [],
   "source": [
    "import pandas as pd\n",
    "from sklearn.preprocessing import StandardScaler\n",
    "import statsmodels.formula.api as sm\n",
    "import seaborn as sns\n",
    "import numpy as np\n",
    "import matplotlib.pyplot as plt\n"
   ]
  },
  {
   "cell_type": "markdown",
   "metadata": {},
   "source": [
    "Assignment 1:\n",
    "    Catagorical variables: Product_Catagory & Quality\n",
    "    Figure out reference category (class 3) (this is comparing smth to the others, so for example how much more expensive the food is compared to the other product categories)\n",
    "    "
   ]
  },
  {
   "cell_type": "code",
   "execution_count": 2,
   "metadata": {},
   "outputs": [
    {
     "data": {
      "text/html": [
       "<div>\n",
       "<style scoped>\n",
       "    .dataframe tbody tr th:only-of-type {\n",
       "        vertical-align: middle;\n",
       "    }\n",
       "\n",
       "    .dataframe tbody tr th {\n",
       "        vertical-align: top;\n",
       "    }\n",
       "\n",
       "    .dataframe thead th {\n",
       "        text-align: right;\n",
       "    }\n",
       "</style>\n",
       "<table border=\"1\" class=\"dataframe\">\n",
       "  <thead>\n",
       "    <tr style=\"text-align: right;\">\n",
       "      <th></th>\n",
       "      <th>Unnamed: 0</th>\n",
       "      <th>products_sold</th>\n",
       "      <th>product_category</th>\n",
       "      <th>quality</th>\n",
       "      <th>satisfaction</th>\n",
       "      <th>discount</th>\n",
       "      <th>retail_price</th>\n",
       "      <th>perc_physical</th>\n",
       "      <th>market_size</th>\n",
       "    </tr>\n",
       "  </thead>\n",
       "  <tbody>\n",
       "    <tr>\n",
       "      <th>0</th>\n",
       "      <td>1</td>\n",
       "      <td>162907</td>\n",
       "      <td>toys</td>\n",
       "      <td>premium</td>\n",
       "      <td>4.0</td>\n",
       "      <td>4</td>\n",
       "      <td>30.0</td>\n",
       "      <td>54.2</td>\n",
       "      <td>2744</td>\n",
       "    </tr>\n",
       "    <tr>\n",
       "      <th>1</th>\n",
       "      <td>2</td>\n",
       "      <td>195042</td>\n",
       "      <td>food</td>\n",
       "      <td>premium</td>\n",
       "      <td>3.9</td>\n",
       "      <td>4</td>\n",
       "      <td>22.0</td>\n",
       "      <td>64.4</td>\n",
       "      <td>3083</td>\n",
       "    </tr>\n",
       "    <tr>\n",
       "      <th>2</th>\n",
       "      <td>3</td>\n",
       "      <td>72749</td>\n",
       "      <td>toys</td>\n",
       "      <td>premium</td>\n",
       "      <td>3.2</td>\n",
       "      <td>9</td>\n",
       "      <td>29.0</td>\n",
       "      <td>41.5</td>\n",
       "      <td>1641</td>\n",
       "    </tr>\n",
       "    <tr>\n",
       "      <th>3</th>\n",
       "      <td>4</td>\n",
       "      <td>148853</td>\n",
       "      <td>other</td>\n",
       "      <td>off_brand</td>\n",
       "      <td>4.1</td>\n",
       "      <td>4</td>\n",
       "      <td>14.0</td>\n",
       "      <td>54.2</td>\n",
       "      <td>1832</td>\n",
       "    </tr>\n",
       "    <tr>\n",
       "      <th>4</th>\n",
       "      <td>5</td>\n",
       "      <td>192908</td>\n",
       "      <td>health</td>\n",
       "      <td>off_brand</td>\n",
       "      <td>4.2</td>\n",
       "      <td>3</td>\n",
       "      <td>5.0</td>\n",
       "      <td>31.2</td>\n",
       "      <td>2967</td>\n",
       "    </tr>\n",
       "  </tbody>\n",
       "</table>\n",
       "</div>"
      ],
      "text/plain": [
       "   Unnamed: 0  products_sold product_category    quality  satisfaction  \\\n",
       "0           1         162907             toys    premium           4.0   \n",
       "1           2         195042             food    premium           3.9   \n",
       "2           3          72749             toys    premium           3.2   \n",
       "3           4         148853            other  off_brand           4.1   \n",
       "4           5         192908           health  off_brand           4.2   \n",
       "\n",
       "   discount  retail_price  perc_physical  market_size  \n",
       "0         4          30.0           54.2         2744  \n",
       "1         4          22.0           64.4         3083  \n",
       "2         9          29.0           41.5         1641  \n",
       "3         4          14.0           54.2         1832  \n",
       "4         3           5.0           31.2         2967  "
      ]
     },
     "execution_count": 2,
     "metadata": {},
     "output_type": "execute_result"
    }
   ],
   "source": [
    "df = pd.read_csv('1672182Pet shop.csv')\n",
    "df.head()"
   ]
  },
  {
   "cell_type": "code",
   "execution_count": 3,
   "metadata": {},
   "outputs": [
    {
     "data": {
      "text/html": [
       "<div>\n",
       "<style scoped>\n",
       "    .dataframe tbody tr th:only-of-type {\n",
       "        vertical-align: middle;\n",
       "    }\n",
       "\n",
       "    .dataframe tbody tr th {\n",
       "        vertical-align: top;\n",
       "    }\n",
       "\n",
       "    .dataframe thead th {\n",
       "        text-align: right;\n",
       "    }\n",
       "</style>\n",
       "<table border=\"1\" class=\"dataframe\">\n",
       "  <thead>\n",
       "    <tr style=\"text-align: right;\">\n",
       "      <th></th>\n",
       "      <th>Unnamed: 0</th>\n",
       "      <th>products_sold</th>\n",
       "      <th>product_category</th>\n",
       "      <th>quality</th>\n",
       "      <th>satisfaction</th>\n",
       "      <th>discount</th>\n",
       "      <th>retail_price</th>\n",
       "      <th>perc_physical</th>\n",
       "      <th>market_size</th>\n",
       "      <th>product_category_food</th>\n",
       "      <th>product_category_health</th>\n",
       "      <th>product_category_other</th>\n",
       "      <th>product_category_toys</th>\n",
       "      <th>quality_off_brand</th>\n",
       "      <th>quality_premium</th>\n",
       "    </tr>\n",
       "  </thead>\n",
       "  <tbody>\n",
       "    <tr>\n",
       "      <th>0</th>\n",
       "      <td>1</td>\n",
       "      <td>162907</td>\n",
       "      <td>toys</td>\n",
       "      <td>premium</td>\n",
       "      <td>4.0</td>\n",
       "      <td>4</td>\n",
       "      <td>30.0</td>\n",
       "      <td>54.2</td>\n",
       "      <td>2744</td>\n",
       "      <td>False</td>\n",
       "      <td>False</td>\n",
       "      <td>False</td>\n",
       "      <td>True</td>\n",
       "      <td>False</td>\n",
       "      <td>True</td>\n",
       "    </tr>\n",
       "    <tr>\n",
       "      <th>1</th>\n",
       "      <td>2</td>\n",
       "      <td>195042</td>\n",
       "      <td>food</td>\n",
       "      <td>premium</td>\n",
       "      <td>3.9</td>\n",
       "      <td>4</td>\n",
       "      <td>22.0</td>\n",
       "      <td>64.4</td>\n",
       "      <td>3083</td>\n",
       "      <td>True</td>\n",
       "      <td>False</td>\n",
       "      <td>False</td>\n",
       "      <td>False</td>\n",
       "      <td>False</td>\n",
       "      <td>True</td>\n",
       "    </tr>\n",
       "    <tr>\n",
       "      <th>2</th>\n",
       "      <td>3</td>\n",
       "      <td>72749</td>\n",
       "      <td>toys</td>\n",
       "      <td>premium</td>\n",
       "      <td>3.2</td>\n",
       "      <td>9</td>\n",
       "      <td>29.0</td>\n",
       "      <td>41.5</td>\n",
       "      <td>1641</td>\n",
       "      <td>False</td>\n",
       "      <td>False</td>\n",
       "      <td>False</td>\n",
       "      <td>True</td>\n",
       "      <td>False</td>\n",
       "      <td>True</td>\n",
       "    </tr>\n",
       "    <tr>\n",
       "      <th>3</th>\n",
       "      <td>4</td>\n",
       "      <td>148853</td>\n",
       "      <td>other</td>\n",
       "      <td>off_brand</td>\n",
       "      <td>4.1</td>\n",
       "      <td>4</td>\n",
       "      <td>14.0</td>\n",
       "      <td>54.2</td>\n",
       "      <td>1832</td>\n",
       "      <td>False</td>\n",
       "      <td>False</td>\n",
       "      <td>True</td>\n",
       "      <td>False</td>\n",
       "      <td>True</td>\n",
       "      <td>False</td>\n",
       "    </tr>\n",
       "    <tr>\n",
       "      <th>4</th>\n",
       "      <td>5</td>\n",
       "      <td>192908</td>\n",
       "      <td>health</td>\n",
       "      <td>off_brand</td>\n",
       "      <td>4.2</td>\n",
       "      <td>3</td>\n",
       "      <td>5.0</td>\n",
       "      <td>31.2</td>\n",
       "      <td>2967</td>\n",
       "      <td>False</td>\n",
       "      <td>True</td>\n",
       "      <td>False</td>\n",
       "      <td>False</td>\n",
       "      <td>True</td>\n",
       "      <td>False</td>\n",
       "    </tr>\n",
       "  </tbody>\n",
       "</table>\n",
       "</div>"
      ],
      "text/plain": [
       "   Unnamed: 0  products_sold product_category    quality  satisfaction  \\\n",
       "0           1         162907             toys    premium           4.0   \n",
       "1           2         195042             food    premium           3.9   \n",
       "2           3          72749             toys    premium           3.2   \n",
       "3           4         148853            other  off_brand           4.1   \n",
       "4           5         192908           health  off_brand           4.2   \n",
       "\n",
       "   discount  retail_price  perc_physical  market_size  product_category_food  \\\n",
       "0         4          30.0           54.2         2744                  False   \n",
       "1         4          22.0           64.4         3083                   True   \n",
       "2         9          29.0           41.5         1641                  False   \n",
       "3         4          14.0           54.2         1832                  False   \n",
       "4         3           5.0           31.2         2967                  False   \n",
       "\n",
       "   product_category_health  product_category_other  product_category_toys  \\\n",
       "0                    False                   False                   True   \n",
       "1                    False                   False                  False   \n",
       "2                    False                   False                   True   \n",
       "3                    False                    True                  False   \n",
       "4                     True                   False                  False   \n",
       "\n",
       "   quality_off_brand  quality_premium  \n",
       "0              False             True  \n",
       "1              False             True  \n",
       "2              False             True  \n",
       "3               True            False  \n",
       "4               True            False  "
      ]
     },
     "execution_count": 3,
     "metadata": {},
     "output_type": "execute_result"
    }
   ],
   "source": [
    "PS_dummies = pd.get_dummies(df[['product_category', 'quality']]) \n",
    "df = pd.concat([df, PS_dummies], axis = 1)\n",
    "df.head()"
   ]
  },
  {
   "cell_type": "code",
   "execution_count": 4,
   "metadata": {},
   "outputs": [
    {
     "data": {
      "text/plain": [
       "Unnamed: 0                   0\n",
       "products_sold                0\n",
       "product_category             0\n",
       "quality                    109\n",
       "satisfaction                 0\n",
       "discount                     0\n",
       "retail_price               155\n",
       "perc_physical               67\n",
       "market_size                  0\n",
       "product_category_food        0\n",
       "product_category_health      0\n",
       "product_category_other       0\n",
       "product_category_toys        0\n",
       "quality_off_brand            0\n",
       "quality_premium              0\n",
       "dtype: int64"
      ]
     },
     "execution_count": 4,
     "metadata": {},
     "output_type": "execute_result"
    }
   ],
   "source": [
    "df.isnull().sum() #run this before model1 to check what category can be the dependent variable\n",
    "#At first i tried doing this exercise with retail_price as the dependent variable because i thought it would be an interesting statistic\n",
    "#But because there are missings in that category the CooksD wouldnt work, so check the df.isnull before picking a dependent variable"
   ]
  },
  {
   "cell_type": "code",
   "execution_count": 5,
   "metadata": {},
   "outputs": [],
   "source": [
    "df = df.dropna()"
   ]
  },
  {
   "cell_type": "code",
   "execution_count": 6,
   "metadata": {},
   "outputs": [
    {
     "name": "stdout",
     "output_type": "stream",
     "text": [
      "                            OLS Regression Results                            \n",
      "==============================================================================\n",
      "Dep. Variable:          products_sold   R-squared:                       0.783\n",
      "Model:                            OLS   Adj. R-squared:                  0.782\n",
      "Method:                 Least Squares   F-statistic:                     774.7\n",
      "Date:                Mon, 01 Apr 2024   Prob (F-statistic):               0.00\n",
      "Time:                        09:46:32   Log-Likelihood:                -22293.\n",
      "No. Observations:                1941   AIC:                         4.461e+04\n",
      "Df Residuals:                    1931   BIC:                         4.466e+04\n",
      "Df Model:                           9                                         \n",
      "Covariance Type:            nonrobust                                         \n",
      "===================================================================================================\n",
      "                                      coef    std err          t      P>|t|      [0.025      0.975]\n",
      "---------------------------------------------------------------------------------------------------\n",
      "Intercept                       -6.198e+04   2798.087    -22.152      0.000   -6.75e+04   -5.65e+04\n",
      "product_category_food[T.True]    2246.4120   1480.242      1.518      0.129    -656.629    5149.453\n",
      "product_category_health[T.True] -1.856e+04   1101.879    -16.844      0.000   -2.07e+04   -1.64e+04\n",
      "product_category_other[T.True]  -1.839e+04   1403.663    -13.105      0.000   -2.11e+04   -1.56e+04\n",
      "product_category_toys[T.True]   -2.727e+04   1151.339    -23.689      0.000   -2.95e+04    -2.5e+04\n",
      "quality_off_brand[T.True]       -2.577e+04   1539.129    -16.743      0.000   -2.88e+04   -2.28e+04\n",
      "quality_premium[T.True]         -3.621e+04   1474.434    -24.560      0.000   -3.91e+04   -3.33e+04\n",
      "satisfaction                     4.621e+04   1025.472     45.063      0.000    4.42e+04    4.82e+04\n",
      "discount                          116.9549     28.165      4.153      0.000      61.718     172.192\n",
      "retail_price                     -617.7376     76.055     -8.122      0.000    -766.896    -468.579\n",
      "perc_physical                      37.3000     26.972      1.383      0.167     -15.598      90.198\n",
      "market_size                        39.8814      0.587     67.886      0.000      38.729      41.034\n",
      "==============================================================================\n",
      "Omnibus:                        4.548   Durbin-Watson:                   2.042\n",
      "Prob(Omnibus):                  0.103   Jarque-Bera (JB):                4.454\n",
      "Skew:                           0.111   Prob(JB):                        0.108\n",
      "Kurtosis:                       3.076   Cond. No.                     1.28e+18\n",
      "==============================================================================\n",
      "\n",
      "Notes:\n",
      "[1] Standard Errors assume that the covariance matrix of the errors is correctly specified.\n",
      "[2] The smallest eigenvalue is 5.09e-27. This might indicate that there are\n",
      "strong multicollinearity problems or that the design matrix is singular.\n"
     ]
    }
   ],
   "source": [
    "model1 = sm.ols('products_sold~product_category_food+product_category_health+product_category_other+product_category_toys+quality_off_brand+quality_premium+satisfaction+discount+retail_price+perc_physical+market_size',data=df).fit()\n",
    "print(model1.summary()) #is product_category the right choice for running this model? also how do i set a reference category"
   ]
  },
  {
   "cell_type": "code",
   "execution_count": 7,
   "metadata": {},
   "outputs": [
    {
     "name": "stdout",
     "output_type": "stream",
     "text": [
      "[5.78022625e-05 2.21611767e-06 3.24637370e-08 ... 2.50250338e-07\n",
      " 5.99701135e-05 4.89182802e-08]\n"
     ]
    }
   ],
   "source": [
    "CooksD = model1.get_influence().cooks_distance\n",
    "n = len(df)\n",
    "print(CooksD[0])\n",
    "df['Outlier'] = CooksD[0] > 4/n"
   ]
  },
  {
   "cell_type": "code",
   "execution_count": 8,
   "metadata": {},
   "outputs": [
    {
     "name": "stderr",
     "output_type": "stream",
     "text": [
      "/tmp/ipykernel_1437/4027029462.py:1: FutureWarning: Setting an item of incompatible dtype is deprecated and will raise an error in a future version of pandas. Value 'nan' has dtype incompatible with bool, please explicitly cast to a compatible dtype first.\n",
      "  df.loc[df['Outlier']==True, 'Outlier'] = np.NaN #turned outliers into NaN (missing values)\n"
     ]
    }
   ],
   "source": [
    "df.loc[df['Outlier']==True, 'Outlier'] = np.NaN #turned outliers into NaN (missing values)"
   ]
  },
  {
   "cell_type": "markdown",
   "metadata": {},
   "source": [
    "Assignment 2:"
   ]
  },
  {
   "cell_type": "code",
   "execution_count": 9,
   "metadata": {},
   "outputs": [],
   "source": [
    "from sklearn.experimental import enable_iterative_imputer\n",
    "from sklearn.impute import IterativeImputer"
   ]
  },
  {
   "cell_type": "code",
   "execution_count": 10,
   "metadata": {},
   "outputs": [],
   "source": [
    "df_new = pd.get_dummies(df, dummy_na=True)\n",
    "#dealed with categorical missing data by adding a quality_nan list to show where data missing\n",
    "\n",
    "df_imputed = IterativeImputer().fit_transform(df_new)\n",
    "df_imputed = pd.DataFrame(df_imputed, columns=df_new.columns)\n",
    "#dealed with continuous missing values by imputing them"
   ]
  },
  {
   "cell_type": "code",
   "execution_count": 11,
   "metadata": {},
   "outputs": [
    {
     "name": "stdout",
     "output_type": "stream",
     "text": [
      "satisfaction vs discount: PearsonRResult(statistic=-0.0008241124165918244, pvalue=0.9710556223738548) pvalue>0,8\n",
      "satisfaction vs retail_price: PearsonRResult(statistic=-0.015299567681099855, pvalue=0.5005307271061529) pvalue<0,8\n",
      "satisfaction vs perc_physical: PearsonRResult(statistic=-0.003157347469726817, pvalue=0.88943963456944) pvalue>0,8\n",
      "satisfaction vs market_size: PearsonRResult(statistic=-0.009462240162851404, pvalue=0.6769588456635695) pvalue<0,8\n",
      "discount vs retail_price: PearsonRResult(statistic=-0.020487271542242023, pvalue=0.36699499724615936) pvalue<0,8\n",
      "discount vs perc_physical: PearsonRResult(statistic=0.030373658827942934, pvalue=0.18102287779931966) pvalue<0,8\n",
      "discount vs market_size: PearsonRResult(statistic=-0.009086554623334717, pvalue=0.6891014787464546) pvalue<0,8\n",
      "retail_price vs perc_physical: PearsonRResult(statistic=0.033091245286938006, pvalue=0.1450187673067467) pvalue<0,8\n",
      "retail_price vs market_size: PearsonRResult(statistic=0.014649064683024347, pvalue=0.5189210314615916) pvalue<0,8\n",
      "perc_physical vs market_size: PearsonRResult(statistic=0.030099349407651573, pvalue=0.18499657623374227) pvalue<0,8\n"
     ]
    }
   ],
   "source": [
    "import scipy.stats\n",
    "#checking for multicollinearity\n",
    "# satisfaction\tdiscount\tretail_price\tperc_physical\tmarket_size\n",
    "check1 = scipy.stats.pearsonr(df['satisfaction'], df['discount'])#tuurlijk ben ik meer satisfied als ik een discount krijg\n",
    "print(\"satisfaction vs discount:\", check1, \"pvalue>0,8\")\n",
    "check2 = scipy.stats.pearsonr(df['satisfaction'], df['retail_price'])\n",
    "print(\"satisfaction vs retail_price:\", check2, \"pvalue<0,8\")\n",
    "check3 = scipy.stats.pearsonr(df['satisfaction'], df['perc_physical'])#tuurlijk ben ik meer satisfied als ik bij een fysieke winkel iets koop\n",
    "print(\"satisfaction vs perc_physical:\", check3, \"pvalue>0,8\")\n",
    "check4 = scipy.stats.pearsonr(df['satisfaction'], df['market_size'])\n",
    "print(\"satisfaction vs market_size:\", check4, \"pvalue<0,8\")\n",
    "check5 = scipy.stats.pearsonr(df['discount'], df['retail_price'])\n",
    "print(\"discount vs retail_price:\", check5, \"pvalue<0,8\")\n",
    "check6 = scipy.stats.pearsonr(df['discount'], df['perc_physical'])\n",
    "print(\"discount vs perc_physical:\", check6, \"pvalue<0,8\")\n",
    "check7 = scipy.stats.pearsonr(df['discount'], df['market_size'])\n",
    "print(\"discount vs market_size:\", check7, \"pvalue<0,8\")\n",
    "check8 = scipy.stats.pearsonr(df['retail_price'], df['perc_physical'])\n",
    "print(\"retail_price vs perc_physical:\", check8, \"pvalue<0,8\")\n",
    "check9 = scipy.stats.pearsonr(df['retail_price'], df['market_size'])\n",
    "print(\"retail_price vs market_size:\", check9, \"pvalue<0,8\")\n",
    "check10 = scipy.stats.pearsonr(df['perc_physical'], df['market_size'])\n",
    "print(\"perc_physical vs market_size:\", check10, \"pvalue<0,8\")\n",
    "\n",
    "#what is the more efficient way to do this, this cant be right d^_^b"
   ]
  },
  {
   "cell_type": "code",
   "execution_count": 13,
   "metadata": {},
   "outputs": [
    {
     "name": "stdout",
     "output_type": "stream",
     "text": [
      "                            OLS Regression Results                            \n",
      "==============================================================================\n",
      "Dep. Variable:          products_sold   R-squared:                       0.555\n",
      "Model:                            OLS   Adj. R-squared:                  0.553\n",
      "Method:                 Least Squares   F-statistic:                     301.2\n",
      "Date:                Mon, 01 Apr 2024   Prob (F-statistic):               0.00\n",
      "Time:                        09:52:06   Log-Likelihood:                -22991.\n",
      "No. Observations:                1941   AIC:                         4.600e+04\n",
      "Df Residuals:                    1932   BIC:                         4.605e+04\n",
      "Df Model:                           8                                         \n",
      "Covariance Type:            nonrobust                                         \n",
      "==============================================================================================\n",
      "                                 coef    std err          t      P>|t|      [0.025      0.975]\n",
      "----------------------------------------------------------------------------------------------\n",
      "Intercept                   3.434e+04   1329.177     25.832      0.000    3.17e+04    3.69e+04\n",
      "product_category_food[0]    1.795e+04    992.848     18.080      0.000     1.6e+04    1.99e+04\n",
      "product_category_food[1]    1.795e+04    992.848     18.080      0.000     1.6e+04    1.99e+04\n",
      "product_category_health[0]  7551.4589    669.195     11.284      0.000    6239.038    8863.879\n",
      "product_category_health[1]  7551.4589    669.195     11.284      0.000    6239.038    8863.879\n",
      "product_category_other[0]   6398.9035    941.378      6.797      0.000    4552.679    8245.128\n",
      "product_category_other[1]   6398.9035    941.378      6.797      0.000    4552.679    8245.128\n",
      "product_category_toys[0]    2434.2330    743.412      3.274      0.001     976.259    3892.207\n",
      "product_category_toys[1]    2434.2330    743.412      3.274      0.001     976.259    3892.207\n",
      "quality_off_brand[0]        2.001e+04    808.810     24.744      0.000    1.84e+04    2.16e+04\n",
      "quality_off_brand[1]        2.001e+04    808.810     24.744      0.000    1.84e+04    2.16e+04\n",
      "quality_premium[0]          1.432e+04    742.380     19.292      0.000    1.29e+04    1.58e+04\n",
      "quality_premium[1]          1.432e+04    742.380     19.292      0.000    1.29e+04    1.58e+04\n",
      "discount                     116.5142     40.332      2.889      0.004      37.416     195.612\n",
      "retail_price                -676.7999    108.893     -6.215      0.000    -890.361    -463.239\n",
      "perc_physical                 35.6962     38.624      0.924      0.355     -40.053     111.445\n",
      "market_size                   39.6521      0.841     47.136      0.000      38.002      41.302\n",
      "==============================================================================\n",
      "Omnibus:                       17.756   Durbin-Watson:                   1.976\n",
      "Prob(Omnibus):                  0.000   Jarque-Bera (JB):               11.893\n",
      "Skew:                           0.022   Prob(JB):                      0.00262\n",
      "Kurtosis:                       2.619   Cond. No.                     6.04e+19\n",
      "==============================================================================\n",
      "\n",
      "Notes:\n",
      "[1] Standard Errors assume that the covariance matrix of the errors is correctly specified.\n",
      "[2] The smallest eigenvalue is 2.29e-30. This might indicate that there are\n",
      "strong multicollinearity problems or that the design matrix is singular.\n"
     ]
    }
   ],
   "source": [
    "#to fix this issue i have decided to run a new model without satisfaction.\n",
    "model2 = sm.ols('products_sold~product_category_food+product_category_health+product_category_other+product_category_toys+quality_off_brand+quality_premium+discount+retail_price+perc_physical+market_size',data=df_imputed).fit()\n",
    "print(model2.summary())"
   ]
  },
  {
   "cell_type": "markdown",
   "metadata": {},
   "source": [
    "Assignment 3:"
   ]
  },
  {
   "cell_type": "code",
   "execution_count": 14,
   "metadata": {},
   "outputs": [
    {
     "data": {
      "text/plain": [
       "PearsonRResult(statistic=-0.07445636268955098, pvalue=0.0010279912055598498)"
      ]
     },
     "execution_count": 14,
     "metadata": {},
     "output_type": "execute_result"
    }
   ],
   "source": [
    "products_sold = df['products_sold']\n",
    "retail_price = df['retail_price']\n",
    "\n",
    "scipy.stats.pearsonr(products_sold, retail_price) #<0.05 = significant"
   ]
  },
  {
   "cell_type": "code",
   "execution_count": 25,
   "metadata": {},
   "outputs": [
    {
     "data": {
      "image/png": "[encoded data removed]",
      "text/plain": [
       "<Figure size 640x480 with 1 Axes>"
      ]
     },
     "metadata": {},
     "output_type": "display_data"
    }
   ],
   "source": [
    "y = df['products_sold']\n",
    "x = df['discount']\n",
    "\n",
    "lowessplot = sns.regplot(x = x, y = y, lowess=True, line_kws={\"color\":\"green\"})\n",
    "plt.show(lowessplot)"
   ]
  }
 ],
 "metadata": {
  "kernelspec": {
   "display_name": "Python 3",
   "language": "python",
   "name": "python3"
  },
  "language_info": {
   "codemirror_mode": {
    "name": "ipython",
    "version": 3
   },
   "file_extension": ".py",
   "mimetype": "text/x-python",
   "name": "python",
   "nbconvert_exporter": "python",
   "pygments_lexer": "ipython3",
   "version": "3.10.13"
  }
 },
 "nbformat": 4,
 "nbformat_minor": 2
}
