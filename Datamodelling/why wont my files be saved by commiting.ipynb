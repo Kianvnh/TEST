{
 "cells": [
  {
   "cell_type": "code",
   "execution_count": 2,
   "metadata": {},
   "outputs": [],
   "source": [
    "import pandas as pd\n",
    "import statsmodels.formula.api as sm"
   ]
  },
  {
   "cell_type": "code",
   "execution_count": 3,
   "metadata": {},
   "outputs": [
    {
     "name": "stdout",
     "output_type": "stream",
     "text": [
      "      age     sex     bmi  children smoker     region      charges  \\\n",
      "0      19  female  27.900         0    yes  southwest  16884.92400   \n",
      "1      18    male  33.770         1     no  southeast   1725.55230   \n",
      "2      28    male  33.000         3     no  southeast   4449.46200   \n",
      "3      33    male  22.705         0     no  northwest  21984.47061   \n",
      "4      32    male  28.880         0     no  northwest   3866.85520   \n",
      "...   ...     ...     ...       ...    ...        ...          ...   \n",
      "1333   50    male  30.970         3     no  northwest  10600.54830   \n",
      "1334   18  female  31.920         0     no  northeast   2205.98080   \n",
      "1335   18  female  36.850         0     no  southeast   1629.83350   \n",
      "1336   21  female  25.800         0     no  southwest   2007.94500   \n",
      "1337   61  female  29.070         0    yes  northwest  29141.36030   \n",
      "\n",
      "      sex_female  sex_male  smoker_no  smoker_yes  \n",
      "0           True     False      False        True  \n",
      "1          False      True       True       False  \n",
      "2          False      True       True       False  \n",
      "3          False      True       True       False  \n",
      "4          False      True       True       False  \n",
      "...          ...       ...        ...         ...  \n",
      "1333       False      True       True       False  \n",
      "1334        True     False       True       False  \n",
      "1335        True     False       True       False  \n",
      "1336        True     False       True       False  \n",
      "1337        True     False      False        True  \n",
      "\n",
      "[1338 rows x 11 columns]\n"
     ]
    }
   ],
   "source": [
    "df = pd.read_csv('insurance.csv')\n",
    "dataset_insurance_dummies = pd.get_dummies(df[['sex', 'smoker']])\n",
    "df = pd.concat([df, dataset_insurance_dummies], axis = 1)\n",
    "print(df)"
   ]
  },
  {
   "cell_type": "code",
   "execution_count": null,
   "metadata": {},
   "outputs": [],
   "source": []
  },
  {
   "cell_type": "code",
   "execution_count": 16,
   "metadata": {},
   "outputs": [
    {
     "name": "stdout",
     "output_type": "stream",
     "text": [
      "                            OLS Regression Results                            \n",
      "==============================================================================\n",
      "Dep. Variable:                charges   R-squared:                       0.003\n",
      "Model:                            OLS   Adj. R-squared:                  0.003\n",
      "Method:                 Least Squares   F-statistic:                     4.400\n",
      "Date:                Thu, 07 Mar 2024   Prob (F-statistic):             0.0361\n",
      "Time:                        14:33:20   Log-Likelihood:                -14475.\n",
      "No. Observations:                1338   AIC:                         2.895e+04\n",
      "Df Residuals:                    1336   BIC:                         2.897e+04\n",
      "Df Model:                           1                                         \n",
      "Covariance Type:            nonrobust                                         \n",
      "====================================================================================\n",
      "                       coef    std err          t      P>|t|      [0.025      0.975]\n",
      "------------------------------------------------------------------------------------\n",
      "Intercept         1.257e+04    470.072     26.740      0.000    1.16e+04    1.35e+04\n",
      "sex_male[T.True]  1387.1723    661.331      2.098      0.036      89.812    2684.532\n",
      "==============================================================================\n",
      "Omnibus:                      331.451   Durbin-Watson:                   2.011\n",
      "Prob(Omnibus):                  0.000   Jarque-Bera (JB):              636.534\n",
      "Skew:                           1.496   Prob(JB):                    6.00e-139\n",
      "Kurtosis:                       4.572   Cond. No.                         2.63\n",
      "==============================================================================\n",
      "\n",
      "Notes:\n",
      "[1] Standard Errors assume that the covariance matrix of the errors is correctly specified.\n"
     ]
    }
   ],
   "source": [
    "sex_male = df['sex_male']\n",
    "smoker_yes = df['smoker_yes']\n",
    "charges = df['charges']\n",
    "\n",
    "model1 = sm.ols('charges~sex_male', data = df).fit()\n",
    "print(model1.summary())"
   ]
  }
 ],
 "metadata": {
  "kernelspec": {
   "display_name": "Python 3",
   "language": "python",
   "name": "python3"
  },
  "language_info": {
   "codemirror_mode": {
    "name": "ipython",
    "version": 3
   },
   "file_extension": ".py",
   "mimetype": "text/x-python",
   "name": "python",
   "nbconvert_exporter": "python",
   "pygments_lexer": "ipython3",
   "version": "3.10.13"
  }
 },
 "nbformat": 4,
 "nbformat_minor": 2
}
